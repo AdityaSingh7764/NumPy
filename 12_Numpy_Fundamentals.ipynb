{
  "nbformat": 4,
  "nbformat_minor": 0,
  "metadata": {
    "colab": {
      "provenance": []
    },
    "kernelspec": {
      "name": "python3",
      "display_name": "Python 3"
    },
    "language_info": {
      "name": "python"
    }
  },
  "cells": [
    {
      "cell_type": "markdown",
      "source": [
        "## **What is Numpy ?**\n",
        "NumPy is the fundamental package for scientific computing in Python. It is a multidimensional array object, various derived objects (such as masked arrays and matrices), and an assortment of routines for fast operations on arrays, including mathematical, logical, shape manipulation, sorting, selecting, I/O, discrete fourier transfroms, basic linear algebra, basic statistical operations, random simulation and much more.\n",
        "\n",
        "At the core of the NumPy package, is the ndarray object. This encapsulation n-dimensional arrays of homogenous data types."
      ],
      "metadata": {
        "id": "C2G2IaFyhray"
      }
    },
    {
      "cell_type": "markdown",
      "source": [
        "### **Numpy Arrays Vs Python Sequences**\n",
        "*  NumPy arrays have a fixed size at creation, unlike Python lists (which can grow dynamically). Changing the size of ndarray will create a new array and delete the original.\n",
        "*  The elements in a NumPy arrays are all required to be of the same data types, and thus will be the same size in memory.\n",
        "*  NumPy arrays facilitate advanced mathematical and other types of operations on large numbers of data. Typically, such operations are executed more efficiently and with less code than is possible using Python's built-in sequence.\n",
        "*  A growing plethora of scientific and mathematical Python-based packages are using NumPy arrays; through these typically support Python-sequence input, they convert such input to NumPy arrays prior to processing, and they often output NumPy arrays."
      ],
      "metadata": {
        "id": "LCvBzZfEk8ZX"
      }
    },
    {
      "cell_type": "markdown",
      "source": [
        "# **1. Creating Numpy Arrays**"
      ],
      "metadata": {
        "id": "zUS0n9DpntFK"
      }
    },
    {
      "cell_type": "code",
      "source": [
        "import numpy as np     # np.array"
      ],
      "metadata": {
        "id": "L-BIYOz2hrJq"
      },
      "execution_count": null,
      "outputs": []
    },
    {
      "cell_type": "code",
      "source": [
        "A = np.array([1,2,3,4,5])\n",
        "print(A)\n",
        "print(type(A))"
      ],
      "metadata": {
        "colab": {
          "base_uri": "https://localhost:8080/"
        },
        "id": "cGtOAAgQn1Gy",
        "outputId": "c241e18c-16f0-4132-94d8-acee9526d7e2"
      },
      "execution_count": null,
      "outputs": [
        {
          "output_type": "stream",
          "name": "stdout",
          "text": [
            "[1 2 3 4 5]\n",
            "<class 'numpy.ndarray'>\n"
          ]
        }
      ]
    },
    {
      "cell_type": "code",
      "source": [
        "# 2D Array\n",
        "\n",
        "B = np.array([[1,2,3,4,5],[6,7,8,9,10]])\n",
        "print(B)"
      ],
      "metadata": {
        "colab": {
          "base_uri": "https://localhost:8080/"
        },
        "id": "b_ofoM6Bn7mn",
        "outputId": "8806f31b-5895-487f-d1f4-f34b71726bc2"
      },
      "execution_count": null,
      "outputs": [
        {
          "output_type": "stream",
          "name": "stdout",
          "text": [
            "[[ 1  2  3  4  5]\n",
            " [ 6  7  8  9 10]]\n"
          ]
        }
      ]
    },
    {
      "cell_type": "code",
      "source": [
        "# 3D Array\n",
        "\n",
        "C = np.array([[[1,2],[3,4]],[[5,6],[7,9]]])\n",
        "print(C)"
      ],
      "metadata": {
        "colab": {
          "base_uri": "https://localhost:8080/"
        },
        "id": "xu7w3TtcpswO",
        "outputId": "f7b66b4c-c54b-4b9c-f535-7c5971c6609c"
      },
      "execution_count": null,
      "outputs": [
        {
          "output_type": "stream",
          "name": "stdout",
          "text": [
            "[[[1 2]\n",
            "  [3 4]]\n",
            "\n",
            " [[5 6]\n",
            "  [7 9]]]\n"
          ]
        }
      ]
    },
    {
      "cell_type": "code",
      "source": [
        "# Different Datatypes\n",
        "\n",
        "f = np.array([1,2,3],dtype=float)\n",
        "print(f)\n",
        "\n",
        "b = np.array([1,False,2],dtype=bool)\n",
        "print(b)"
      ],
      "metadata": {
        "colab": {
          "base_uri": "https://localhost:8080/"
        },
        "id": "6PSOG-fIp-6Z",
        "outputId": "03fd1965-2b75-42c4-9a87-6d5bd2200159"
      },
      "execution_count": null,
      "outputs": [
        {
          "output_type": "stream",
          "name": "stdout",
          "text": [
            "[1. 2. 3.]\n",
            "[ True False  True]\n"
          ]
        }
      ]
    },
    {
      "cell_type": "code",
      "source": [
        "# Range Function\n",
        "\n",
        "a = np.arange(1,11)\n",
        "print(a)\n",
        "\n",
        "s = np.arange(1,11,2)\n",
        "print(s)"
      ],
      "metadata": {
        "colab": {
          "base_uri": "https://localhost:8080/"
        },
        "id": "u9aynBEDuH_1",
        "outputId": "d5d3979d-a616-4c21-95de-f39d604f18cc"
      },
      "execution_count": null,
      "outputs": [
        {
          "output_type": "stream",
          "name": "stdout",
          "text": [
            "[ 1  2  3  4  5  6  7  8  9 10]\n",
            "[1 3 5 7 9]\n"
          ]
        }
      ]
    },
    {
      "cell_type": "code",
      "source": [
        "# Reshape Function\n",
        "\n",
        "a = np.arange(1,11).reshape(2,5)\n",
        "print(a)\n",
        "print('\\n')\n",
        "b = np.arange(1,21).reshape(5,2,2)\n",
        "print(b)\n",
        "print('\\n')\n",
        "c = np.arange(1,25).reshape(4,3,2)\n",
        "print(c)"
      ],
      "metadata": {
        "colab": {
          "base_uri": "https://localhost:8080/"
        },
        "id": "00oo8qc4uczo",
        "outputId": "1ea39491-23ef-468d-ba19-b31b5183317c"
      },
      "execution_count": null,
      "outputs": [
        {
          "output_type": "stream",
          "name": "stdout",
          "text": [
            "[[ 1  2  3  4  5]\n",
            " [ 6  7  8  9 10]]\n",
            "\n",
            "\n",
            "[[[ 1  2]\n",
            "  [ 3  4]]\n",
            "\n",
            " [[ 5  6]\n",
            "  [ 7  8]]\n",
            "\n",
            " [[ 9 10]\n",
            "  [11 12]]\n",
            "\n",
            " [[13 14]\n",
            "  [15 16]]\n",
            "\n",
            " [[17 18]\n",
            "  [19 20]]]\n",
            "\n",
            "\n",
            "[[[ 1  2]\n",
            "  [ 3  4]\n",
            "  [ 5  6]]\n",
            "\n",
            " [[ 7  8]\n",
            "  [ 9 10]\n",
            "  [11 12]]\n",
            "\n",
            " [[13 14]\n",
            "  [15 16]\n",
            "  [17 18]]\n",
            "\n",
            " [[19 20]\n",
            "  [21 22]\n",
            "  [23 24]]]\n"
          ]
        }
      ]
    },
    {
      "cell_type": "code",
      "source": [
        "# Ones and Zeros            # It used where you want to initialize the array or matrices faster\n",
        "\n",
        "a = np.ones((4,2))\n",
        "print(a)\n",
        "print('\\n')\n",
        "b = np.zeros((2,4))\n",
        "print(b)"
      ],
      "metadata": {
        "colab": {
          "base_uri": "https://localhost:8080/"
        },
        "id": "ZRI4JwImusKY",
        "outputId": "c75f264b-1445-49a6-e0b8-6a0924c75179"
      },
      "execution_count": null,
      "outputs": [
        {
          "output_type": "stream",
          "name": "stdout",
          "text": [
            "[[1. 1.]\n",
            " [1. 1.]\n",
            " [1. 1.]\n",
            " [1. 1.]]\n"
          ]
        }
      ]
    },
    {
      "cell_type": "code",
      "source": [
        "# Random\n",
        "\n",
        "np.random.random((2,4))"
      ],
      "metadata": {
        "colab": {
          "base_uri": "https://localhost:8080/"
        },
        "id": "U_2YLpHgvizJ",
        "outputId": "d8d47653-e4a9-42a3-c4d9-ff54ee2c9f6b"
      },
      "execution_count": null,
      "outputs": [
        {
          "output_type": "execute_result",
          "data": {
            "text/plain": [
              "array([[0.43422892, 0.64536021, 0.24013351, 0.79275563],\n",
              "       [0.27225984, 0.70486571, 0.54646564, 0.76654028]])"
            ]
          },
          "metadata": {},
          "execution_count": 31
        }
      ]
    },
    {
      "cell_type": "code",
      "source": [
        "# Linear Space\n",
        "\n",
        "print(np.linspace(-10,10,10))\n",
        "print('\\n')\n",
        "print(np.linspace(10,20,5))"
      ],
      "metadata": {
        "colab": {
          "base_uri": "https://localhost:8080/"
        },
        "id": "Svzi6UXzw8Rt",
        "outputId": "cdb047cc-192c-4e5b-ecc0-442ec871133d"
      },
      "execution_count": null,
      "outputs": [
        {
          "output_type": "stream",
          "name": "stdout",
          "text": [
            "[-10.          -7.77777778  -5.55555556  -3.33333333  -1.11111111\n",
            "   1.11111111   3.33333333   5.55555556   7.77777778  10.        ]\n",
            "\n",
            "\n",
            "[10.  12.5 15.  17.5 20. ]\n"
          ]
        }
      ]
    },
    {
      "cell_type": "code",
      "source": [
        "# Identity\n",
        "\n",
        "print(np.identity(3))\n",
        "print('\\n')\n",
        "print(np.identity(4))"
      ],
      "metadata": {
        "colab": {
          "base_uri": "https://localhost:8080/"
        },
        "id": "FR3uDZsLA2iq",
        "outputId": "d05f6e8b-6b24-4768-b9b4-7a93213b50d7"
      },
      "execution_count": null,
      "outputs": [
        {
          "output_type": "stream",
          "name": "stdout",
          "text": [
            "[[1. 0. 0.]\n",
            " [0. 1. 0.]\n",
            " [0. 0. 1.]]\n",
            "\n",
            "\n",
            "[[1. 0. 0. 0.]\n",
            " [0. 1. 0. 0.]\n",
            " [0. 0. 1. 0.]\n",
            " [0. 0. 0. 1.]]\n"
          ]
        }
      ]
    },
    {
      "cell_type": "markdown",
      "source": [
        "# **2. Array Attribute**"
      ],
      "metadata": {
        "id": "taPy-ELHBiqs"
      }
    },
    {
      "cell_type": "code",
      "source": [
        "a = np.arange(10,dtype=np.int32)          # int64 takes 8 byte default, int32 takes 4 byte\n",
        "print(a)\n",
        "print('\\n')\n",
        "b = np.arange(12,dtype=float).reshape(3,4)\n",
        "print(b)\n",
        "print('\\n')\n",
        "c = np.arange(16).reshape(2,4,2)\n",
        "print(c)"
      ],
      "metadata": {
        "colab": {
          "base_uri": "https://localhost:8080/"
        },
        "id": "CEFHBN5kBWbi",
        "outputId": "ba7b38dc-9e67-4f5d-f42f-ebba4e14e7e4"
      },
      "execution_count": null,
      "outputs": [
        {
          "output_type": "stream",
          "name": "stdout",
          "text": [
            "[0 1 2 3 4 5 6 7 8 9]\n",
            "\n",
            "\n",
            "[[ 0.  1.  2.  3.]\n",
            " [ 4.  5.  6.  7.]\n",
            " [ 8.  9. 10. 11.]]\n",
            "\n",
            "\n",
            "[[[ 0  1]\n",
            "  [ 2  3]\n",
            "  [ 4  5]\n",
            "  [ 6  7]]\n",
            "\n",
            " [[ 8  9]\n",
            "  [10 11]\n",
            "  [12 13]\n",
            "  [14 15]]]\n"
          ]
        }
      ]
    },
    {
      "cell_type": "code",
      "source": [
        "# ndim (dimension of an array)\n",
        "\n",
        "print(a.ndim)\n",
        "print(b.ndim)\n",
        "print(c.ndim)"
      ],
      "metadata": {
        "colab": {
          "base_uri": "https://localhost:8080/"
        },
        "id": "FzVgFxeyEPp6",
        "outputId": "c1865d7a-b184-4467-c93f-cab8603ac6a3"
      },
      "execution_count": null,
      "outputs": [
        {
          "output_type": "stream",
          "name": "stdout",
          "text": [
            "1\n",
            "2\n",
            "3\n"
          ]
        }
      ]
    },
    {
      "cell_type": "code",
      "source": [
        "# shape (rows and columns in an array)\n",
        "\n",
        "print(a.shape)\n",
        "print(b.shape)\n",
        "print(c.shape)          # 2- 2D arrays of (4,2)     # (2,4,2)"
      ],
      "metadata": {
        "colab": {
          "base_uri": "https://localhost:8080/"
        },
        "id": "JSa8vXJHEhh2",
        "outputId": "7d1361d1-bb8c-4a1d-9e48-393dc9f91271"
      },
      "execution_count": null,
      "outputs": [
        {
          "output_type": "stream",
          "name": "stdout",
          "text": [
            "(10,)\n",
            "(3, 4)\n",
            "(2, 4, 2)\n"
          ]
        }
      ]
    },
    {
      "cell_type": "code",
      "source": [
        "# size (total elements in an array)\n",
        "\n",
        "print(a.size)\n",
        "print(b.size)\n",
        "print(c.size)"
      ],
      "metadata": {
        "colab": {
          "base_uri": "https://localhost:8080/"
        },
        "id": "9JLsIWS3Evw8",
        "outputId": "a3ee803f-6bee-4600-da04-a520de538446"
      },
      "execution_count": null,
      "outputs": [
        {
          "output_type": "stream",
          "name": "stdout",
          "text": [
            "10\n",
            "12\n",
            "16\n"
          ]
        }
      ]
    },
    {
      "cell_type": "code",
      "source": [
        "# itemsize (size of item in memory)\n",
        "\n",
        "print(a.itemsize)\n",
        "print(b.itemsize)\n",
        "print(c.itemsize)"
      ],
      "metadata": {
        "colab": {
          "base_uri": "https://localhost:8080/"
        },
        "id": "3bHBV9uWFtfM",
        "outputId": "622c9382-9b29-434a-f15e-d902a402a989"
      },
      "execution_count": null,
      "outputs": [
        {
          "output_type": "stream",
          "name": "stdout",
          "text": [
            "8\n",
            "8\n",
            "8\n"
          ]
        }
      ]
    },
    {
      "cell_type": "code",
      "source": [
        "# dtype (tells data type)\n",
        "\n",
        "print(a.dtype)\n",
        "print(b.dtype)\n",
        "print(c.dtype)"
      ],
      "metadata": {
        "colab": {
          "base_uri": "https://localhost:8080/"
        },
        "id": "rOcQB4epGBUX",
        "outputId": "3d5c1236-5e58-4ca8-9943-ea2663a07e34"
      },
      "execution_count": null,
      "outputs": [
        {
          "output_type": "stream",
          "name": "stdout",
          "text": [
            "int32\n",
            "float64\n",
            "int64\n"
          ]
        }
      ]
    },
    {
      "cell_type": "markdown",
      "source": [
        "# **3. Changing Datatype**"
      ],
      "metadata": {
        "id": "SNQhHyRDG301"
      }
    },
    {
      "cell_type": "code",
      "source": [
        "# astype (to change datatype)     # for saving memory or space\n",
        "\n",
        "a = np.arange(1,11)\n",
        "print(a.dtype)\n",
        "a = a.astype(np.int32)\n",
        "print(a.dtype)"
      ],
      "metadata": {
        "colab": {
          "base_uri": "https://localhost:8080/"
        },
        "id": "E9vGcQnVG2fO",
        "outputId": "29dd0952-ba06-49b6-90a5-63d4a38dc3fb"
      },
      "execution_count": null,
      "outputs": [
        {
          "output_type": "stream",
          "name": "stdout",
          "text": [
            "int64\n",
            "int32\n"
          ]
        }
      ]
    },
    {
      "cell_type": "markdown",
      "source": [
        "# **4. Array Operations**"
      ],
      "metadata": {
        "id": "4Aj34ZIWIrmQ"
      }
    },
    {
      "cell_type": "code",
      "source": [
        "a = np.arange(12).reshape(3,4)\n",
        "b = np.arange(12,24).reshape(3,4)\n",
        "\n",
        "print(a)\n",
        "print('\\n')\n",
        "print(b)"
      ],
      "metadata": {
        "colab": {
          "base_uri": "https://localhost:8080/"
        },
        "id": "A5LJd7mTHNk6",
        "outputId": "61220ca7-1505-423f-e37d-56f70d7dcf64"
      },
      "execution_count": null,
      "outputs": [
        {
          "output_type": "stream",
          "name": "stdout",
          "text": [
            "[[ 0  1  2  3]\n",
            " [ 4  5  6  7]\n",
            " [ 8  9 10 11]]\n",
            "\n",
            "\n",
            "[[12 13 14 15]\n",
            " [16 17 18 19]\n",
            " [20 21 22 23]]\n"
          ]
        }
      ]
    },
    {
      "cell_type": "code",
      "source": [
        "# scalar operations\n",
        "\n",
        "# arithmetic\n",
        "\n",
        "print(a*2)\n",
        "print('\\n')\n",
        "print(a+2)\n",
        "print('\\n')\n",
        "print(a-2)\n",
        "print('\\n')\n",
        "print(a/2)\n",
        "print('\\n')\n",
        "print(a%2)"
      ],
      "metadata": {
        "colab": {
          "base_uri": "https://localhost:8080/"
        },
        "id": "fNkxAnizJA4p",
        "outputId": "13e4842d-960b-49c2-8918-677c37f1877d"
      },
      "execution_count": null,
      "outputs": [
        {
          "output_type": "stream",
          "name": "stdout",
          "text": [
            "[[ 0  2  4  6]\n",
            " [ 8 10 12 14]\n",
            " [16 18 20 22]]\n",
            "\n",
            "\n",
            "[[ 2  3  4  5]\n",
            " [ 6  7  8  9]\n",
            " [10 11 12 13]]\n",
            "\n",
            "\n",
            "[[-2 -1  0  1]\n",
            " [ 2  3  4  5]\n",
            " [ 6  7  8  9]]\n",
            "\n",
            "\n",
            "[[0.  0.5 1.  1.5]\n",
            " [2.  2.5 3.  3.5]\n",
            " [4.  4.5 5.  5.5]]\n",
            "\n",
            "\n",
            "[[0 1 0 1]\n",
            " [0 1 0 1]\n",
            " [0 1 0 1]]\n"
          ]
        }
      ]
    },
    {
      "cell_type": "code",
      "source": [
        "# relational\n",
        "\n",
        "print(a>5)\n",
        "print('\\n')\n",
        "print(a<5)\n",
        "print('\\n')\n",
        "print(a==5)\n",
        "print('\\n')\n",
        "print(a!=5)"
      ],
      "metadata": {
        "colab": {
          "base_uri": "https://localhost:8080/"
        },
        "id": "prTzQYdqLdW-",
        "outputId": "5abea092-1098-441c-8249-f34dc43269ee"
      },
      "execution_count": null,
      "outputs": [
        {
          "output_type": "stream",
          "name": "stdout",
          "text": [
            "[[False False False False]\n",
            " [False False  True  True]\n",
            " [ True  True  True  True]]\n",
            "\n",
            "\n",
            "[[ True  True  True  True]\n",
            " [ True False False False]\n",
            " [False False False False]]\n",
            "\n",
            "\n",
            "[[False False False False]\n",
            " [False  True False False]\n",
            " [False False False False]]\n",
            "\n",
            "\n",
            "[[ True  True  True  True]\n",
            " [ True False  True  True]\n",
            " [ True  True  True  True]]\n"
          ]
        }
      ]
    },
    {
      "cell_type": "code",
      "source": [
        "# vector operations\n",
        "\n",
        "print(a+b)\n",
        "print('\\n')\n",
        "print(a**b)"
      ],
      "metadata": {
        "colab": {
          "base_uri": "https://localhost:8080/"
        },
        "id": "vy4mIp1JLwaj",
        "outputId": "a01e982b-dcc3-4200-f763-81266569fc0a"
      },
      "execution_count": null,
      "outputs": [
        {
          "output_type": "stream",
          "name": "stdout",
          "text": [
            "[[12 14 16 18]\n",
            " [20 22 24 26]\n",
            " [28 30 32 34]]\n",
            "\n",
            "\n",
            "[[                   0                    1                16384\n",
            "              14348907]\n",
            " [          4294967296         762939453125      101559956668416\n",
            "     11398895185373143]\n",
            " [ 1152921504606846976 -1261475310744950487  1864712049423024128\n",
            "   6839173302027254275]]\n"
          ]
        }
      ]
    },
    {
      "cell_type": "markdown",
      "source": [
        "# **5. Array Functions**"
      ],
      "metadata": {
        "id": "ffUFmw41M9uP"
      }
    },
    {
      "cell_type": "code",
      "source": [
        "a = np.random.random((3,3))\n",
        "b = np.round(a*100)\n",
        "print(b)"
      ],
      "metadata": {
        "colab": {
          "base_uri": "https://localhost:8080/"
        },
        "id": "r4Fl8QaYMWNB",
        "outputId": "789cd4d3-4c65-4caf-ef95-50fe50402763"
      },
      "execution_count": null,
      "outputs": [
        {
          "output_type": "stream",
          "name": "stdout",
          "text": [
            "[[13. 52. 61.]\n",
            " [71. 77. 69.]\n",
            " [12. 26. 85.]]\n"
          ]
        }
      ]
    },
    {
      "cell_type": "code",
      "source": [
        "# max, min, sum, prod\n",
        "\n",
        "print(np.max(a),'\\n')\n",
        "print(np.min(a),'\\n')\n",
        "print(np.sum(a),'\\n')\n",
        "print(np.prod(a))"
      ],
      "metadata": {
        "colab": {
          "base_uri": "https://localhost:8080/"
        },
        "id": "cyg1KOxTNKbs",
        "outputId": "8609be61-23c9-4c40-89af-18d663c6a6bd"
      },
      "execution_count": null,
      "outputs": [
        {
          "output_type": "stream",
          "name": "stdout",
          "text": [
            "0.8471956937497869 \n",
            "\n",
            "0.11904038977778464 \n",
            "\n",
            "4.645867593405347 \n",
            "\n",
            "0.0003954869447122943\n"
          ]
        }
      ]
    },
    {
      "cell_type": "code",
      "source": [
        "# find the maximum in every row\n",
        "# 0->col  1->row\n",
        "\n",
        "print(np.max(b,axis=1))\n",
        "print(np.max(b,axis=0))"
      ],
      "metadata": {
        "colab": {
          "base_uri": "https://localhost:8080/"
        },
        "id": "Z2MyAnpzNxQ9",
        "outputId": "c90632b4-9751-4789-a8f2-f3344bdf391b"
      },
      "execution_count": null,
      "outputs": [
        {
          "output_type": "stream",
          "name": "stdout",
          "text": [
            "[61. 77. 85.]\n",
            "[71. 77. 85.]\n"
          ]
        }
      ]
    },
    {
      "cell_type": "code",
      "source": [
        "# mean, median, std(standard deviation), var(variance)\n",
        "\n",
        "print(np.mean(b),'\\n')\n",
        "print(np.mean(b,axis=1),'\\n')\n",
        "print(np.median(b),'\\n')\n",
        "print(np.std(b),'\\n')\n",
        "print(np.var(b))"
      ],
      "metadata": {
        "colab": {
          "base_uri": "https://localhost:8080/"
        },
        "id": "Nsnok42tPxpq",
        "outputId": "f334e128-8634-44eb-df14-8739f783fe53"
      },
      "execution_count": null,
      "outputs": [
        {
          "output_type": "stream",
          "name": "stdout",
          "text": [
            "51.77777777777778 \n",
            "\n",
            "[42.         72.33333333 41.        ] \n",
            "\n",
            "61.0 \n",
            "\n",
            "26.334505365385283 \n",
            "\n",
            "693.5061728395062\n"
          ]
        }
      ]
    },
    {
      "cell_type": "code",
      "source": [
        "# trigonometric function\n",
        "\n",
        "print(np.sin(b))"
      ],
      "metadata": {
        "colab": {
          "base_uri": "https://localhost:8080/"
        },
        "id": "Fx_VKEgkQntP",
        "outputId": "42140953-002a-42aa-c498-26700504ef2c"
      },
      "execution_count": null,
      "outputs": [
        {
          "output_type": "stream",
          "name": "stdout",
          "text": [
            "[[ 0.42016704  0.98662759 -0.96611777]\n",
            " [ 0.95105465  0.99952016 -0.11478481]\n",
            " [-0.53657292  0.76255845 -0.17607562]]\n"
          ]
        }
      ]
    },
    {
      "cell_type": "code",
      "source": [
        "# dot product\n",
        "\n",
        "a2 = np.arange(12).reshape(3,4)\n",
        "b2 = np.arange(12,24).reshape(4,3)\n",
        "\n",
        "print(np.dot(a2,b2))"
      ],
      "metadata": {
        "colab": {
          "base_uri": "https://localhost:8080/"
        },
        "id": "SSoufVKzRQHH",
        "outputId": "4f9df919-6529-4c11-bb42-5171a6a090dc"
      },
      "execution_count": null,
      "outputs": [
        {
          "output_type": "stream",
          "name": "stdout",
          "text": [
            "[[114 120 126]\n",
            " [378 400 422]\n",
            " [642 680 718]]\n"
          ]
        }
      ]
    },
    {
      "cell_type": "code",
      "source": [
        "# log and exponents\n",
        "\n",
        "print(np.exp(a2))"
      ],
      "metadata": {
        "colab": {
          "base_uri": "https://localhost:8080/"
        },
        "id": "ds4jxxBhRYfW",
        "outputId": "65656d29-96ac-4c42-de6f-27c977d1bddb"
      },
      "execution_count": null,
      "outputs": [
        {
          "output_type": "stream",
          "name": "stdout",
          "text": [
            "[[1.00000000e+00 2.71828183e+00 7.38905610e+00 2.00855369e+01]\n",
            " [5.45981500e+01 1.48413159e+02 4.03428793e+02 1.09663316e+03]\n",
            " [2.98095799e+03 8.10308393e+03 2.20264658e+04 5.98741417e+04]]\n"
          ]
        }
      ]
    },
    {
      "cell_type": "code",
      "source": [
        "# round, flour, cell\n",
        "\n",
        "print(np.round(np.random.random((2,4))*100),'\\n')\n",
        "print(np.floor(np.random.random((2,4))*100))"
      ],
      "metadata": {
        "colab": {
          "base_uri": "https://localhost:8080/"
        },
        "id": "M3giEQZYR__y",
        "outputId": "86d59990-23dd-4c8f-d825-d98cb74c5461"
      },
      "execution_count": null,
      "outputs": [
        {
          "output_type": "stream",
          "name": "stdout",
          "text": [
            "[[33. 50. 88. 56.]\n",
            " [51. 62. 66. 75.]] \n",
            "\n",
            "[[15. 11. 31. 32.]\n",
            " [31. 44. 28. 90.]]\n"
          ]
        }
      ]
    },
    {
      "cell_type": "markdown",
      "source": [
        "# **6. Indexing and Slicing**"
      ],
      "metadata": {
        "id": "ZECr2DhkUA1S"
      }
    },
    {
      "cell_type": "code",
      "source": [
        "a = np.arange(10)\n",
        "b = np.arange(12).reshape(4,3)\n",
        "c = np.arange(8).reshape(2,2,2)\n",
        "\n",
        "print(a,'\\n')\n",
        "print(b,'\\n')\n",
        "print(c)"
      ],
      "metadata": {
        "colab": {
          "base_uri": "https://localhost:8080/"
        },
        "id": "woIGUISqSOLn",
        "outputId": "7dc04786-8836-4f3e-b858-a62ebe3672f6"
      },
      "execution_count": null,
      "outputs": [
        {
          "output_type": "stream",
          "name": "stdout",
          "text": [
            "[0 1 2 3 4 5 6 7 8 9] \n",
            "\n",
            "[[ 0  1  2]\n",
            " [ 3  4  5]\n",
            " [ 6  7  8]\n",
            " [ 9 10 11]] \n",
            "\n",
            "[[[0 1]\n",
            "  [2 3]]\n",
            "\n",
            " [[4 5]\n",
            "  [6 7]]]\n"
          ]
        }
      ]
    },
    {
      "cell_type": "code",
      "source": [
        "# Indexing\n",
        "\n",
        "print(a[0],a[-1],a[2],a[-3])\n",
        "print(b[2][0])\n",
        "print(b[1][1])\n",
        "print(c[1][0][1])\n",
        "print(c[0][1][0])\n",
        "print(c[0][0][0])\n",
        "print(c[1][1][0])"
      ],
      "metadata": {
        "colab": {
          "base_uri": "https://localhost:8080/"
        },
        "id": "s8RXi0MZUTqS",
        "outputId": "5d7d1d2f-d75e-41d0-b46e-d6ee26bc7dfe"
      },
      "execution_count": null,
      "outputs": [
        {
          "output_type": "stream",
          "name": "stdout",
          "text": [
            "0 9 2 7\n",
            "6\n",
            "4\n",
            "5\n",
            "2\n",
            "0\n",
            "6\n"
          ]
        }
      ]
    },
    {
      "cell_type": "code",
      "source": [
        "# Slicing\n",
        "\n",
        "print(a[2:5],'\\n')\n",
        "print(a[2:8:2],'\\n')\n",
        "print(a[8:2:-1],'\\n')\n",
        "print(a[8:2:-2])"
      ],
      "metadata": {
        "colab": {
          "base_uri": "https://localhost:8080/"
        },
        "id": "GdVvkeMaUiiF",
        "outputId": "719944f8-5aeb-4f66-c077-20312c1967b0"
      },
      "execution_count": null,
      "outputs": [
        {
          "output_type": "stream",
          "name": "stdout",
          "text": [
            "[2 3 4] \n",
            "\n",
            "[2 4 6] \n",
            "\n",
            "[8 7 6 5 4 3] \n",
            "\n",
            "[8 6 4]\n"
          ]
        }
      ]
    },
    {
      "cell_type": "code",
      "source": [
        "print(b[0,:],'\\n')\n",
        "print(b[:,2],'\\n')\n",
        "print(b[1:3,1:3],'\\n')\n",
        "print(b[::3,::2],'\\n')\n",
        "print(b[::2,::2],'\\n')\n",
        "print(b[2:3,::2],'\\n')\n",
        "print(b[0:2,1:])"
      ],
      "metadata": {
        "colab": {
          "base_uri": "https://localhost:8080/"
        },
        "id": "_Rvdr5iZV3na",
        "outputId": "91e15939-1e06-434a-ba6c-6141643ff672"
      },
      "execution_count": null,
      "outputs": [
        {
          "output_type": "stream",
          "name": "stdout",
          "text": [
            "[0 1 2] \n",
            "\n",
            "[ 2  5  8 11] \n",
            "\n",
            "[[4 5]\n",
            " [7 8]] \n",
            "\n",
            "[[ 0  2]\n",
            " [ 9 11]] \n",
            "\n",
            "[[0 2]\n",
            " [6 8]] \n",
            "\n",
            "[[6 8]] \n",
            "\n",
            "[[1 2]\n",
            " [4 5]]\n"
          ]
        }
      ]
    },
    {
      "cell_type": "code",
      "source": [
        "a3 = np.arange(27).reshape(3,3,3)\n",
        "print(a3)"
      ],
      "metadata": {
        "colab": {
          "base_uri": "https://localhost:8080/"
        },
        "id": "lZ7YogniWSar",
        "outputId": "a7bef09e-6cf0-426a-ff20-e4e9cdfa9cb5"
      },
      "execution_count": null,
      "outputs": [
        {
          "output_type": "stream",
          "name": "stdout",
          "text": [
            "[[[ 0  1  2]\n",
            "  [ 3  4  5]\n",
            "  [ 6  7  8]]\n",
            "\n",
            " [[ 9 10 11]\n",
            "  [12 13 14]\n",
            "  [15 16 17]]\n",
            "\n",
            " [[18 19 20]\n",
            "  [21 22 23]\n",
            "  [24 25 26]]]\n"
          ]
        }
      ]
    },
    {
      "cell_type": "code",
      "source": [
        "print(a3[1],'\\n')\n",
        "print(a3[::2],'\\n')\n",
        "print(a3[0,1],'\\n')\n",
        "print(a3[1,:,1],'\\n')\n",
        "print(a3[2,1:,1:],'\\n')\n",
        "print(a3[2,0,2:])"
      ],
      "metadata": {
        "colab": {
          "base_uri": "https://localhost:8080/"
        },
        "id": "ZeKoefavhDrE",
        "outputId": "632d34ff-6248-4827-e7cb-2a7bea0e19dc"
      },
      "execution_count": null,
      "outputs": [
        {
          "output_type": "stream",
          "name": "stdout",
          "text": [
            "[[ 9 10 11]\n",
            " [12 13 14]\n",
            " [15 16 17]] \n",
            "\n",
            "[[[ 0  1  2]\n",
            "  [ 3  4  5]\n",
            "  [ 6  7  8]]\n",
            "\n",
            " [[18 19 20]\n",
            "  [21 22 23]\n",
            "  [24 25 26]]] \n",
            "\n",
            "[3 4 5] \n",
            "\n",
            "[10 13 16] \n",
            "\n",
            "[[22 23]\n",
            " [25 26]] \n",
            "\n",
            "[20]\n"
          ]
        }
      ]
    },
    {
      "cell_type": "markdown",
      "source": [
        "# **7. Iterating**"
      ],
      "metadata": {
        "id": "x5G-g1vZjkMz"
      }
    },
    {
      "cell_type": "code",
      "source": [
        "print(a,'\\n')\n",
        "print(b,'\\n')\n",
        "print(c)"
      ],
      "metadata": {
        "colab": {
          "base_uri": "https://localhost:8080/"
        },
        "id": "hI-SR2HwhNL1",
        "outputId": "a463a746-d08b-4ce8-a433-d74b97d94dcf"
      },
      "execution_count": null,
      "outputs": [
        {
          "output_type": "stream",
          "name": "stdout",
          "text": [
            "[0 1 2 3 4 5 6 7 8 9] \n",
            "\n",
            "[[ 0  1  2]\n",
            " [ 3  4  5]\n",
            " [ 6  7  8]\n",
            " [ 9 10 11]] \n",
            "\n",
            "[[[0 1]\n",
            "  [2 3]]\n",
            "\n",
            " [[4 5]\n",
            "  [6 7]]]\n"
          ]
        }
      ]
    },
    {
      "cell_type": "code",
      "source": [
        "for i in a:\n",
        "  print(i)"
      ],
      "metadata": {
        "colab": {
          "base_uri": "https://localhost:8080/"
        },
        "id": "FXjTwLQdjveK",
        "outputId": "699c9922-f663-41d4-f146-cd27779f07f5"
      },
      "execution_count": null,
      "outputs": [
        {
          "output_type": "stream",
          "name": "stdout",
          "text": [
            "0\n",
            "1\n",
            "2\n",
            "3\n",
            "4\n",
            "5\n",
            "6\n",
            "7\n",
            "8\n",
            "9\n"
          ]
        }
      ]
    },
    {
      "cell_type": "code",
      "source": [
        "for i in b:\n",
        "  print(i)"
      ],
      "metadata": {
        "colab": {
          "base_uri": "https://localhost:8080/"
        },
        "id": "X1-30jiYj2Pi",
        "outputId": "9a08dcbb-0ead-4701-df41-06b4728b5f63"
      },
      "execution_count": null,
      "outputs": [
        {
          "output_type": "stream",
          "name": "stdout",
          "text": [
            "[0 1 2]\n",
            "[3 4 5]\n",
            "[6 7 8]\n",
            "[ 9 10 11]\n"
          ]
        }
      ]
    },
    {
      "cell_type": "code",
      "source": [
        "for i in c:\n",
        "  print(i)"
      ],
      "metadata": {
        "colab": {
          "base_uri": "https://localhost:8080/"
        },
        "id": "DRC23eaVj6dd",
        "outputId": "38a5bc75-6275-4304-c509-1ee0482ea90f"
      },
      "execution_count": null,
      "outputs": [
        {
          "output_type": "stream",
          "name": "stdout",
          "text": [
            "[[0 1]\n",
            " [2 3]]\n",
            "[[4 5]\n",
            " [6 7]]\n"
          ]
        }
      ]
    },
    {
      "cell_type": "code",
      "source": [
        "for i in np.nditer(b):            # used for iterating single element in n-d arrays\n",
        "  print(i)"
      ],
      "metadata": {
        "colab": {
          "base_uri": "https://localhost:8080/"
        },
        "id": "WhUHNy_zkI5H",
        "outputId": "feb1fad5-57b2-4db4-918e-b56baec74467"
      },
      "execution_count": null,
      "outputs": [
        {
          "output_type": "stream",
          "name": "stdout",
          "text": [
            "0\n",
            "1\n",
            "2\n",
            "3\n",
            "4\n",
            "5\n",
            "6\n",
            "7\n",
            "8\n",
            "9\n",
            "10\n",
            "11\n"
          ]
        }
      ]
    },
    {
      "cell_type": "code",
      "source": [
        "for i in np.nditer(c):\n",
        "  print(i)"
      ],
      "metadata": {
        "colab": {
          "base_uri": "https://localhost:8080/"
        },
        "id": "XiURb33wkWW8",
        "outputId": "317c46fc-2f18-48da-c278-750976139108"
      },
      "execution_count": null,
      "outputs": [
        {
          "output_type": "stream",
          "name": "stdout",
          "text": [
            "0\n",
            "1\n",
            "2\n",
            "3\n",
            "4\n",
            "5\n",
            "6\n",
            "7\n"
          ]
        }
      ]
    },
    {
      "cell_type": "markdown",
      "source": [
        "# **8. Reshaping**"
      ],
      "metadata": {
        "id": "7cXYzZhpkwb0"
      }
    },
    {
      "cell_type": "code",
      "source": [
        "# transpose\n",
        "\n",
        "print(b,'\\n')\n",
        "print(np.transpose(b),'\\n')\n",
        "print(b.T)                           # Short Form"
      ],
      "metadata": {
        "colab": {
          "base_uri": "https://localhost:8080/"
        },
        "id": "LfiU0QZWkZFt",
        "outputId": "ca2a7810-f124-4697-9477-be813534ec47"
      },
      "execution_count": null,
      "outputs": [
        {
          "output_type": "stream",
          "name": "stdout",
          "text": [
            "[[ 0  1  2]\n",
            " [ 3  4  5]\n",
            " [ 6  7  8]\n",
            " [ 9 10 11]] \n",
            "\n",
            "[[ 0  3  6  9]\n",
            " [ 1  4  7 10]\n",
            " [ 2  5  8 11]] \n",
            "\n",
            "[[ 0  3  6  9]\n",
            " [ 1  4  7 10]\n",
            " [ 2  5  8 11]]\n"
          ]
        }
      ]
    },
    {
      "cell_type": "code",
      "source": [
        "# ravel\n",
        "\n",
        "print(b,'\\n')\n",
        "print(np.ravel(b))     # convert n-d array to 1-d array"
      ],
      "metadata": {
        "colab": {
          "base_uri": "https://localhost:8080/"
        },
        "id": "XmzvYdygk5Uu",
        "outputId": "441783cb-cfce-485f-debc-f0da44c6bb30"
      },
      "execution_count": null,
      "outputs": [
        {
          "output_type": "stream",
          "name": "stdout",
          "text": [
            "[[ 0  1  2]\n",
            " [ 3  4  5]\n",
            " [ 6  7  8]\n",
            " [ 9 10 11]] \n",
            "\n",
            "[ 0  1  2  3  4  5  6  7  8  9 10 11]\n"
          ]
        }
      ]
    },
    {
      "cell_type": "markdown",
      "source": [
        "# **9. Stacking**"
      ],
      "metadata": {
        "id": "cmHzW3dZymZS"
      }
    },
    {
      "cell_type": "code",
      "source": [
        "# Horizontal Stacking [2*2] [2*2] = [2*(2+2)], [2*4]  (Shape should be same)\n",
        "\n",
        "a = np.arange(12).reshape(4,3)\n",
        "b = np.arange(12,24).reshape(4,3)\n",
        "\n",
        "c = np.hstack((a,b))\n",
        "print(c,'\\n')\n",
        "c = np.hstack((a,b,a))\n",
        "print(c)"
      ],
      "metadata": {
        "id": "sBLuHcH0lWia",
        "colab": {
          "base_uri": "https://localhost:8080/"
        },
        "outputId": "4a7fafc3-91b3-4788-ee2b-b6d2e3342349"
      },
      "execution_count": 139,
      "outputs": [
        {
          "output_type": "stream",
          "name": "stdout",
          "text": [
            "[[ 0  1  2 12 13 14]\n",
            " [ 3  4  5 15 16 17]\n",
            " [ 6  7  8 18 19 20]\n",
            " [ 9 10 11 21 22 23]] \n",
            "\n",
            "[[ 0  1  2 12 13 14  0  1  2]\n",
            " [ 3  4  5 15 16 17  3  4  5]\n",
            " [ 6  7  8 18 19 20  6  7  8]\n",
            " [ 9 10 11 21 22 23  9 10 11]]\n"
          ]
        }
      ]
    },
    {
      "cell_type": "code",
      "source": [
        "# Verticle Stacking [2*2] [2*2] = [(2+2)*2], [4*2]\n",
        "\n",
        "a = np.arange(12).reshape(4,3)\n",
        "b = np.arange(12,24).reshape(4,3)\n",
        "\n",
        "c = np.vstack((a,b))\n",
        "print(c)"
      ],
      "metadata": {
        "colab": {
          "base_uri": "https://localhost:8080/"
        },
        "id": "HsP3moAnzQhV",
        "outputId": "a525ce29-9d8f-4c08-e7f5-8d8b70f9230b"
      },
      "execution_count": 138,
      "outputs": [
        {
          "output_type": "stream",
          "name": "stdout",
          "text": [
            "[[ 0  1  2]\n",
            " [ 3  4  5]\n",
            " [ 6  7  8]\n",
            " [ 9 10 11]\n",
            " [12 13 14]\n",
            " [15 16 17]\n",
            " [18 19 20]\n",
            " [21 22 23]]\n"
          ]
        }
      ]
    },
    {
      "cell_type": "markdown",
      "source": [
        "# **10. Spliting**"
      ],
      "metadata": {
        "id": "TAFnlJgE0rMH"
      }
    },
    {
      "cell_type": "code",
      "source": [
        "# Horizontal Spliting [3*4] = [3*2][3*2]  (Shape should be same)\n",
        "\n",
        "a = np.arange(12).reshape(3,4)\n",
        "print(a,'\\n')\n",
        "print(np.hsplit(a,2))"
      ],
      "metadata": {
        "colab": {
          "base_uri": "https://localhost:8080/"
        },
        "id": "5yAMCR7e0SA0",
        "outputId": "efacffba-267b-40eb-f5b2-78887598e339"
      },
      "execution_count": 145,
      "outputs": [
        {
          "output_type": "stream",
          "name": "stdout",
          "text": [
            "[[ 0  1  2  3]\n",
            " [ 4  5  6  7]\n",
            " [ 8  9 10 11]] \n",
            "\n",
            "[array([[0, 1],\n",
            "       [4, 5],\n",
            "       [8, 9]]), array([[ 2,  3],\n",
            "       [ 6,  7],\n",
            "       [10, 11]])]\n"
          ]
        }
      ]
    },
    {
      "cell_type": "code",
      "source": [
        "# Verticle Spliting [3*4] = [1*4][1*4][1*4]  (Shape should be same)\n",
        "\n",
        "a = np.arange(12).reshape(3,4)\n",
        "print(a,'\\n')\n",
        "print(np.vsplit(a,3))"
      ],
      "metadata": {
        "colab": {
          "base_uri": "https://localhost:8080/"
        },
        "id": "8uTfLHiA2J95",
        "outputId": "166899c3-43f5-49a3-c9d0-5c22c1b58c93"
      },
      "execution_count": 146,
      "outputs": [
        {
          "output_type": "stream",
          "name": "stdout",
          "text": [
            "[[ 0  1  2  3]\n",
            " [ 4  5  6  7]\n",
            " [ 8  9 10 11]] \n",
            "\n",
            "[array([[0, 1, 2, 3]]), array([[4, 5, 6, 7]]), array([[ 8,  9, 10, 11]])]\n"
          ]
        }
      ]
    },
    {
      "cell_type": "code",
      "source": [],
      "metadata": {
        "id": "YA1WegSl2k7Y"
      },
      "execution_count": null,
      "outputs": []
    }
  ]
}