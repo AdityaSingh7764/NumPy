{
  "nbformat": 4,
  "nbformat_minor": 0,
  "metadata": {
    "colab": {
      "provenance": []
    },
    "kernelspec": {
      "name": "python3",
      "display_name": "Python 3"
    },
    "language_info": {
      "name": "python"
    }
  },
  "cells": [
    {
      "cell_type": "markdown",
      "source": [
        "### **1. Sort Function (np.sort)**\n",
        "**Return a sorted copy of an array**"
      ],
      "metadata": {
        "id": "DeV-CP2q0Mln"
      }
    },
    {
      "cell_type": "code",
      "execution_count": 11,
      "metadata": {
        "colab": {
          "base_uri": "https://localhost:8080/"
        },
        "id": "-bKfe5ASz5RX",
        "outputId": "68ad57e6-cdd5-4ec5-f816-0939b17204bf"
      },
      "outputs": [
        {
          "output_type": "stream",
          "name": "stdout",
          "text": [
            "[56 77 56 22 54 20 13 27 34 70 53 41 27 78  4 39 27 11 34 54] \n",
            "\n",
            "[ 4 11 13 20 22 27 27 27 34 34 39 41 53 54 54 56 56 70 77 78] \n",
            "\n",
            "[78 77 70 56 56 54 54 53 41 39 34 34 27 27 27 22 20 13 11  4]\n"
          ]
        }
      ],
      "source": [
        "import numpy as np\n",
        "\n",
        "a = np.random.randint(1,100,20)\n",
        "print(a,'\\n')\n",
        "print(np.sort(a),'\\n')\n",
        "print(np.sort(a)[::-1])             # Descending Order"
      ]
    },
    {
      "cell_type": "code",
      "source": [
        "b = np.random.randint(1,100,20).reshape(4,5)\n",
        "print(b,'\\n')\n",
        "print(np.sort(b,axis=0))"
      ],
      "metadata": {
        "colab": {
          "base_uri": "https://localhost:8080/"
        },
        "id": "c4zyivm31RAp",
        "outputId": "56d3b7ee-d486-4946-fe94-239729e33461"
      },
      "execution_count": 18,
      "outputs": [
        {
          "output_type": "stream",
          "name": "stdout",
          "text": [
            "[[ 8  6 43 34 44]\n",
            " [42 10  9  3 24]\n",
            " [64 61 42 65 16]\n",
            " [86 84  6 99 54]] \n",
            "\n",
            "[[ 8  6  6  3 16]\n",
            " [42 10  9 34 24]\n",
            " [64 61 42 65 44]\n",
            " [86 84 43 99 54]]\n"
          ]
        }
      ]
    },
    {
      "cell_type": "markdown",
      "source": [
        "### **2. Append Function (np.append)**\n",
        "**The numpy.append() appends values along the mentioned axis at the end of the array.**"
      ],
      "metadata": {
        "id": "9_nFa-5X4LHs"
      }
    },
    {
      "cell_type": "code",
      "source": [
        "print(a,'\\n')\n",
        "print(np.append(a,102))"
      ],
      "metadata": {
        "colab": {
          "base_uri": "https://localhost:8080/"
        },
        "id": "rfbh7I3D1_Pu",
        "outputId": "1d204081-4dd4-4552-b5e1-12fff69dd277"
      },
      "execution_count": 13,
      "outputs": [
        {
          "output_type": "stream",
          "name": "stdout",
          "text": [
            "[56 77 56 22 54 20 13 27 34 70 53 41 27 78  4 39 27 11 34 54] \n",
            "\n",
            "[ 56  77  56  22  54  20  13  27  34  70  53  41  27  78   4  39  27  11\n",
            "  34  54 102]\n"
          ]
        }
      ]
    },
    {
      "cell_type": "code",
      "source": [
        "print(b,'\\n')\n",
        "print(np.append(b,np.ones((b.shape[0],1)),axis=1))"
      ],
      "metadata": {
        "colab": {
          "base_uri": "https://localhost:8080/"
        },
        "id": "a8peNDmJ4mj5",
        "outputId": "02890dda-e6d2-4489-aff6-7fdce8ab8ac2"
      },
      "execution_count": 19,
      "outputs": [
        {
          "output_type": "stream",
          "name": "stdout",
          "text": [
            "[[ 8  6 43 34 44]\n",
            " [42 10  9  3 24]\n",
            " [64 61 42 65 16]\n",
            " [86 84  6 99 54]] \n",
            "\n",
            "[[ 8.  6. 43. 34. 44.  1.]\n",
            " [42. 10.  9.  3. 24.  1.]\n",
            " [64. 61. 42. 65. 16.  1.]\n",
            " [86. 84.  6. 99. 54.  1.]]\n"
          ]
        }
      ]
    },
    {
      "cell_type": "markdown",
      "source": [
        "### **3. Concatenate Function (np.append)**\n",
        "**The numpy.concatenate() function concatenate a sequence of arrays along an existing axis.**"
      ],
      "metadata": {
        "id": "9UtyZe3O52Er"
      }
    },
    {
      "cell_type": "code",
      "source": [
        "a = np.arange(6).reshape(2,3)\n",
        "b = np.arange(6,12).reshape(2,3)\n",
        "\n",
        "print(a,'\\n')\n",
        "print(b,'\\n')\n",
        "print(np.concatenate((a,b),axis=0))"
      ],
      "metadata": {
        "colab": {
          "base_uri": "https://localhost:8080/"
        },
        "id": "68k2HZt6431d",
        "outputId": "fd2af6aa-fd1f-4a4e-a5dd-c82e4c98c18a"
      },
      "execution_count": 23,
      "outputs": [
        {
          "output_type": "stream",
          "name": "stdout",
          "text": [
            "[[0 1 2]\n",
            " [3 4 5]] \n",
            "\n",
            "[[ 6  7  8]\n",
            " [ 9 10 11]] \n",
            "\n",
            "[[ 0  1  2]\n",
            " [ 3  4  5]\n",
            " [ 6  7  8]\n",
            " [ 9 10 11]]\n"
          ]
        }
      ]
    },
    {
      "cell_type": "markdown",
      "source": [
        "### **4. Unique Function (np.unique)**\n",
        "**We can get the unique values from an array given as a parameter in np.unique() method.**"
      ],
      "metadata": {
        "id": "mCnCFY4xBEst"
      }
    },
    {
      "cell_type": "code",
      "source": [
        "a = np.array([1,1,2,3,3,4,5,5,5])\n",
        "b = np.array([[1,2,3,3],[4,5,5,6]])\n",
        "\n",
        "print(a,'\\n')\n",
        "print(b,'\\n')\n",
        "print(np.unique(a),'\\n')\n",
        "print(np.unique(b))"
      ],
      "metadata": {
        "colab": {
          "base_uri": "https://localhost:8080/"
        },
        "id": "2kj3sL416Odb",
        "outputId": "9f988e89-4abe-42f5-c877-b87358e1a031"
      },
      "execution_count": 27,
      "outputs": [
        {
          "output_type": "stream",
          "name": "stdout",
          "text": [
            "[1 1 2 3 3 4 5 5 5] \n",
            "\n",
            "[[1 2 3 3]\n",
            " [4 5 5 6]] \n",
            "\n",
            "[1 2 3 4 5] \n",
            "\n",
            "[1 2 3 4 5 6]\n"
          ]
        }
      ]
    },
    {
      "cell_type": "markdown",
      "source": [
        "### **4. Expand Dimension Function (np.expand_dims)**\n",
        "**Using numpy.expand_dims() method, we can get the expanded dimensions of array**"
      ],
      "metadata": {
        "id": "eDd5YxuyD3UM"
      }
    },
    {
      "cell_type": "code",
      "source": [
        "a = np.arange(12)\n",
        "print(a,'\\n')\n",
        "print(a.shape,'\\n')\n",
        "print(np.expand_dims(a,axis=0),'\\n')\n",
        "print(np.expand_dims(a,axis=0).shape)\n",
        "print(np.expand_dims(a,axis=1),'\\n')\n",
        "print(np.expand_dims(a,axis=1).shape)"
      ],
      "metadata": {
        "colab": {
          "base_uri": "https://localhost:8080/"
        },
        "id": "D7UZOy2GB7Ay",
        "outputId": "e5101a3a-9e57-42fb-cabb-1c438641704b"
      },
      "execution_count": 36,
      "outputs": [
        {
          "output_type": "stream",
          "name": "stdout",
          "text": [
            "[ 0  1  2  3  4  5  6  7  8  9 10 11] \n",
            "\n",
            "(12,) \n",
            "\n",
            "[[ 0  1  2  3  4  5  6  7  8  9 10 11]] \n",
            "\n",
            "(1, 12)\n",
            "[[ 0]\n",
            " [ 1]\n",
            " [ 2]\n",
            " [ 3]\n",
            " [ 4]\n",
            " [ 5]\n",
            " [ 6]\n",
            " [ 7]\n",
            " [ 8]\n",
            " [ 9]\n",
            " [10]\n",
            " [11]] \n",
            "\n",
            "(12, 1)\n"
          ]
        }
      ]
    },
    {
      "cell_type": "markdown",
      "source": [
        "### **5. Where Function (np.where)**\n",
        "**The numpy.where() function returns the indices of elements in an input array where the given condition is satisfied**"
      ],
      "metadata": {
        "id": "JM9Nb_XuGNqv"
      }
    },
    {
      "cell_type": "code",
      "source": [
        "a = np.random.randint(10,100,20)\n",
        "print(a,'\\n')\n",
        "print(np.where(a>50),'\\n')\n",
        "print(a[np.where(a>50)],'\\n')\n",
        "print(np.where(a>50,0,a),'\\n')\n",
        "print(np.where(a%2 == 0,0,a))       # print all even numbers"
      ],
      "metadata": {
        "colab": {
          "base_uri": "https://localhost:8080/"
        },
        "id": "pzYdXNsJEn9Q",
        "outputId": "a32729f4-cf34-4c05-9492-3c5966ed8489"
      },
      "execution_count": 41,
      "outputs": [
        {
          "output_type": "stream",
          "name": "stdout",
          "text": [
            "[35 20 21 49 70 62 24 33 12 52 46 63 85 49 27 90 41 76 46 84] \n",
            "\n",
            "(array([ 4,  5,  9, 11, 12, 15, 17, 19]),) \n",
            "\n",
            "[70 62 52 63 85 90 76 84] \n",
            "\n",
            "[35 20 21 49  0  0 24 33 12  0 46  0  0 49 27  0 41  0 46  0] \n",
            "\n",
            "[35  0 21 49  0  0  0 33  0  0  0 63 85 49 27  0 41  0  0  0]\n"
          ]
        }
      ]
    },
    {
      "cell_type": "markdown",
      "source": [
        "### **6. Argument Max Function (np.argmax)**\n",
        "**The numpy.argmax() function returns indices of the max element of the array in a particular axis.**"
      ],
      "metadata": {
        "id": "F709859xIfNo"
      }
    },
    {
      "cell_type": "code",
      "source": [
        "a = np.random.randint(10,100,20)\n",
        "print(a,'\\n')\n",
        "b = np.random.randint(10,100,20).reshape(5,4)\n",
        "print(b,'\\n')\n",
        "print(np.argmax(a),'\\n')\n",
        "print(a[np.argmax(a)],'\\n')\n",
        "print(np.argmax(b,axis=1),'\\n')\n",
        "print(a[np.argmax(b,axis=1)],'\\n')"
      ],
      "metadata": {
        "colab": {
          "base_uri": "https://localhost:8080/"
        },
        "id": "PeVDmQbxGueF",
        "outputId": "689ae5e9-0807-448a-fc34-dea41833a1d7"
      },
      "execution_count": 46,
      "outputs": [
        {
          "output_type": "stream",
          "name": "stdout",
          "text": [
            "[29 40 70 37 54 72 20 19 40 83 49 30 96 96 12 84 92 85 63 46] \n",
            "\n",
            "[[29 51 55 89]\n",
            " [92 59 28 94]\n",
            " [20 14 18 94]\n",
            " [80 26 63 51]\n",
            " [88 72 98 58]] \n",
            "\n",
            "12 \n",
            "\n",
            "96 \n",
            "\n",
            "[3 3 3 0 2] \n",
            "\n",
            "[37 37 37 29 70] \n",
            "\n"
          ]
        }
      ]
    },
    {
      "cell_type": "markdown",
      "source": [
        "### **7. Argument Min Function (np.argmin)**\n",
        "**The numpy.argmin() function returns indices of the min element of the array in a particular axis.**"
      ],
      "metadata": {
        "id": "SCytHlHoJtLa"
      }
    },
    {
      "cell_type": "code",
      "source": [
        "a = np.random.randint(10,100,20)\n",
        "print(a,'\\n')\n",
        "b = np.random.randint(10,100,20).reshape(5,4)\n",
        "print(b,'\\n')\n",
        "print(np.argmin(a),'\\n')\n",
        "print(a[np.argmin(a)],'\\n')\n",
        "print(np.argmin(b,axis=1),'\\n')\n",
        "print(a[np.argmin(b,axis=1)],'\\n')"
      ],
      "metadata": {
        "colab": {
          "base_uri": "https://localhost:8080/"
        },
        "id": "Vc9KFNglI58W",
        "outputId": "253fdd3e-e9fa-4ef4-d53b-3b545102591a"
      },
      "execution_count": 47,
      "outputs": [
        {
          "output_type": "stream",
          "name": "stdout",
          "text": [
            "[46 95 60 32 71 68 16 68 75 38 99 95 58 52 88 69 44 75 49 53] \n",
            "\n",
            "[[37 56 34 21]\n",
            " [95 17 13 33]\n",
            " [25 14 58 54]\n",
            " [92 34 91 35]\n",
            " [83 59 58 42]] \n",
            "\n",
            "6 \n",
            "\n",
            "16 \n",
            "\n",
            "[3 2 1 1 3] \n",
            "\n",
            "[32 60 95 95 32] \n",
            "\n"
          ]
        }
      ]
    },
    {
      "cell_type": "markdown",
      "source": [
        "### **8. Cumulative Sum Function (np.cumsum)**\n",
        "**The numpy.cumsum() function is used when we want to compute the cumulative sum of array elements over a given axis.**"
      ],
      "metadata": {
        "id": "tztIyfOoKOjl"
      }
    },
    {
      "cell_type": "code",
      "source": [
        "a = np.random.randint(10,100,20)\n",
        "print(a,'\\n')\n",
        "b = np.random.randint(10,100,20).reshape(4,5)\n",
        "print(b,'\\n')\n",
        "\n",
        "print(np.cumsum(a),'\\n')\n",
        "print(np.cumsum(b),'\\n')\n",
        "print(np.cumsum(b,axis=0),'\\n')"
      ],
      "metadata": {
        "colab": {
          "base_uri": "https://localhost:8080/"
        },
        "id": "JpFIJ69MKHVT",
        "outputId": "b7e4924d-5a93-475d-ff52-0621c47bff43"
      },
      "execution_count": 48,
      "outputs": [
        {
          "output_type": "stream",
          "name": "stdout",
          "text": [
            "[68 59 18 82 18 31 29 15 36 74 66 85 16 91 33 21 76 17 67 39] \n",
            "\n",
            "[[23 81 16 79 77]\n",
            " [13 91 81 47 75]\n",
            " [77 23 99 58 26]\n",
            " [49 36 81 98 80]] \n",
            "\n",
            "[ 68 127 145 227 245 276 305 320 356 430 496 581 597 688 721 742 818 835\n",
            " 902 941] \n",
            "\n",
            "[  23  104  120  199  276  289  380  461  508  583  660  683  782  840\n",
            "  866  915  951 1032 1130 1210] \n",
            "\n",
            "[[ 23  81  16  79  77]\n",
            " [ 36 172  97 126 152]\n",
            " [113 195 196 184 178]\n",
            " [162 231 277 282 258]] \n",
            "\n"
          ]
        }
      ]
    },
    {
      "cell_type": "markdown",
      "source": [
        "### **9. Cumulative Product Function (np.cumprod)**\n",
        "**The numpy.cumprod() function is used when we want to compute the cumulative product of array elements over a given axis.**"
      ],
      "metadata": {
        "id": "-wvQoquMPly-"
      }
    },
    {
      "cell_type": "code",
      "source": [
        "a = np.random.randint(10,100,20)\n",
        "print(a,'\\n')\n",
        "b = np.random.randint(10,100,20).reshape(4,5)\n",
        "print(b,'\\n')\n",
        "\n",
        "print(np.cumprod(a),'\\n')\n",
        "print(np.cumprod(b),'\\n')\n",
        "print(np.cumprod(b,axis=0),'\\n')"
      ],
      "metadata": {
        "colab": {
          "base_uri": "https://localhost:8080/"
        },
        "id": "w0-jV2ANOZJz",
        "outputId": "40bffa77-aeb4-4106-cfba-1365b63db1d2"
      },
      "execution_count": 49,
      "outputs": [
        {
          "output_type": "stream",
          "name": "stdout",
          "text": [
            "[26 72 59 92 51 99 39 62 37 61 28 53 42 56 52 32 49 54 64 91] \n",
            "\n",
            "[[23 66 33 51 99]\n",
            " [17 47 20 71 72]\n",
            " [39 59 24 27 67]\n",
            " [24 78 44 13 79]] \n",
            "\n",
            "[                  26                 1872               110448\n",
            "             10161216            518222016          51303979584\n",
            "        2000855203776      124053022634112     4589961837462144\n",
            "   279987672085190784  7839654818385341952 -8773408320896563712\n",
            "   451731996535356416  6850247732270407680  5724744677579718656\n",
            " -1275611054544519168 -7164709451552784384   487315164050227200\n",
            " -5705317648204562432 -2675071922747736064] \n",
            "\n",
            "[                  23                 1518                50094\n",
            "              2554794            252924606           4299718302\n",
            "         202086760194        4041735203880      286963199475480\n",
            "    20661350362234560   805792664127147840 -7798465037626932288\n",
            " -2695720165950858752  1002531814165020160 -6617344745781855744\n",
            "  7204422764621426688  8542653429184733184  6941869409937227776\n",
            " -1989418039363796992  8856671553646002176] \n",
            "\n",
            "[[      23       66       33       51       99]\n",
            " [     391     3102      660     3621     7128]\n",
            " [   15249   183018    15840    97767   477576]\n",
            " [  365976 14275404   696960  1270971 37728504]] \n",
            "\n"
          ]
        }
      ]
    },
    {
      "cell_type": "markdown",
      "source": [
        "### **10. Percentile Function (np.cumprod)**\n",
        "**numpy.percentile() function used to compute the nth percentile of the given data(array elements) along the specified data.**"
      ],
      "metadata": {
        "id": "icoBNXmUR2eE"
      }
    },
    {
      "cell_type": "code",
      "source": [
        "a = np.random.randint(10,100,20)\n",
        "print(a,'\\n')\n",
        "b = np.random.randint(10,100,20).reshape(4,5)\n",
        "print(b,'\\n')\n",
        "\n",
        "print(np.percentile(a,100),'\\n')\n",
        "print(np.percentile(a,50),'\\n')\n",
        "print(np.median(a),'\\n')            # To check\n",
        "print(np.percentile(a,0),'\\n')\n",
        "print(np.cumprod(b,axis=0),'\\n')"
      ],
      "metadata": {
        "colab": {
          "base_uri": "https://localhost:8080/"
        },
        "id": "nY10nowqQUm-",
        "outputId": "b7c780e9-d844-4321-a69a-6b58ad4c537e"
      },
      "execution_count": 53,
      "outputs": [
        {
          "output_type": "stream",
          "name": "stdout",
          "text": [
            "[34 18 89 67 16 92 68 57 66 18 57 29 87 13 63 56 82 78 79 26] \n",
            "\n",
            "[[48 29 79 28 34]\n",
            " [83 96 54 64 91]\n",
            " [32 91 99 73 14]\n",
            " [33 95 45 31 87]] \n",
            "\n",
            "92.0 \n",
            "\n",
            "60.0 \n",
            "\n",
            "60.0 \n",
            "\n",
            "13.0 \n",
            "\n",
            "[[      48       29       79       28       34]\n",
            " [    3984     2784     4266     1792     3094]\n",
            " [  127488   253344   422334   130816    43316]\n",
            " [ 4207104 24067680 19005030  4055296  3768492]] \n",
            "\n"
          ]
        }
      ]
    },
    {
      "cell_type": "markdown",
      "source": [
        "### **10. Histogram Function (np.histogram)**\n",
        "**Numpy has a built in numpy.histogram() function which represents the frequency of data distribution in the graphical form.**"
      ],
      "metadata": {
        "id": "UeBQfflkTAg4"
      }
    },
    {
      "cell_type": "code",
      "source": [
        "a = np.random.randint(0,50,8)\n",
        "print(a,'\\n')\n",
        "\n",
        "print(np.histogram(a,bins=[10,20,30,40,50]),'\\n')"
      ],
      "metadata": {
        "colab": {
          "base_uri": "https://localhost:8080/"
        },
        "id": "7jFo7mUtSc8N",
        "outputId": "2e42af46-15ee-4016-df33-23fd5d391d6d"
      },
      "execution_count": 54,
      "outputs": [
        {
          "output_type": "stream",
          "name": "stdout",
          "text": [
            "[22 11 30 29 19 41 48  1] \n",
            "\n",
            "[[48 90 99 78 17]\n",
            " [45 83 30 36 14]\n",
            " [97 50 25 77 23]\n",
            " [86 48 22 67 97]] \n",
            "\n",
            "(array([2, 2, 1, 2]), array([10, 20, 30, 40, 50])) \n",
            "\n"
          ]
        }
      ]
    },
    {
      "cell_type": "markdown",
      "source": [
        "### **11. Correlation Coefficient Function (np.corrcoef)**\n",
        "**Numpy has a built in numpy.corrcoef() function which returns Pearson product-moment correlation coefficients.**"
      ],
      "metadata": {
        "id": "h8vGf2gOUITf"
      }
    },
    {
      "cell_type": "code",
      "source": [
        "salary = np.array([20000,40000,25000,35000,60000])\n",
        "experience = np.array([1,3,2,4,2])\n",
        "\n",
        "print(np.corrcoef(salary,experience))"
      ],
      "metadata": {
        "colab": {
          "base_uri": "https://localhost:8080/"
        },
        "id": "cVMqH5ymTvAI",
        "outputId": "120779fa-4711-473e-ff98-548bbafbe2f6"
      },
      "execution_count": 55,
      "outputs": [
        {
          "output_type": "stream",
          "name": "stdout",
          "text": [
            "[[1.         0.25344572]\n",
            " [0.25344572 1.        ]]\n"
          ]
        }
      ]
    },
    {
      "cell_type": "markdown",
      "source": [
        "### **12. Isin Function (np.isin)**\n",
        "**Using numpy.isin() method, we can check or see that one array having values are checked in a different numpy array having different elements with different sizes.**"
      ],
      "metadata": {
        "id": "aG44T7poZ6Gq"
      }
    },
    {
      "cell_type": "code",
      "source": [
        "a = np.arange(10,20)\n",
        "b = np.arange(13,16)\n",
        "print(a,'\\n')\n",
        "print(np.isin(a,b),'\\n')\n",
        "print(a[np.isin(a,b)])"
      ],
      "metadata": {
        "colab": {
          "base_uri": "https://localhost:8080/"
        },
        "id": "vNyez7w8ZRlw",
        "outputId": "9ff69bcd-a2bb-4b88-c7ec-33419fe971e1"
      },
      "execution_count": 58,
      "outputs": [
        {
          "output_type": "stream",
          "name": "stdout",
          "text": [
            "[10 11 12 13 14 15 16 17 18 19] \n",
            "\n",
            "[False False False  True  True  True False False False False] \n",
            "\n",
            "[13 14 15]\n"
          ]
        }
      ]
    },
    {
      "cell_type": "markdown",
      "source": [
        "### **12. Flip Function (np.flip)**\n",
        "**The numpy.flip() function reverses the order of array elements along the specified axis, preventing the shape of the array.**"
      ],
      "metadata": {
        "id": "LRfeHpCVbs82"
      }
    },
    {
      "cell_type": "code",
      "source": [
        "print(a,'\\n')\n",
        "print(np.flip(a),'\\n')\n",
        "b = np.random.randint(10,100,20).reshape(4,5)\n",
        "print(b,'\\n')\n",
        "print(np.flip(b,axis=0),'\\n')\n",
        "print(np.flip(b,axis=1))"
      ],
      "metadata": {
        "colab": {
          "base_uri": "https://localhost:8080/"
        },
        "id": "zpZ_KS-HbWj9",
        "outputId": "1b0c3ea4-b3b0-4c37-abf3-b42a72b2ae26"
      },
      "execution_count": 64,
      "outputs": [
        {
          "output_type": "stream",
          "name": "stdout",
          "text": [
            "[10 11 12 13 14 15 16 17 18 19] \n",
            "\n",
            "[19 18 17 16 15 14 13 12 11 10] \n",
            "\n",
            "[[16 42 36 26 19]\n",
            " [52 70 18 77 14]\n",
            " [92 33 69 60 49]\n",
            " [92 76 43 93 65]] \n",
            "\n",
            "[[92 76 43 93 65]\n",
            " [92 33 69 60 49]\n",
            " [52 70 18 77 14]\n",
            " [16 42 36 26 19]] \n",
            "\n",
            "[[19 26 36 42 16]\n",
            " [14 77 18 70 52]\n",
            " [49 60 69 33 92]\n",
            " [65 93 43 76 92]]\n"
          ]
        }
      ]
    },
    {
      "cell_type": "markdown",
      "source": [
        "### **13. Put Function(np.put)**\n",
        "**The numpy.put() function replaces specific elements of an array with given values of parr. Array indexed works on flattened array.**"
      ],
      "metadata": {
        "id": "lHMvN-opcS2M"
      }
    },
    {
      "cell_type": "code",
      "source": [
        "a = np.array([11,53,28,50,38,37,94,5,30,68,9])\n",
        "print(a,'\\n')\n",
        "np.put(a,[0,1],[110,530])         # Permanent Changes\n",
        "print(a,)"
      ],
      "metadata": {
        "colab": {
          "base_uri": "https://localhost:8080/"
        },
        "id": "kHsEs6IlcF_v",
        "outputId": "0c555f04-f3f0-4b5c-a315-f0233d2f7a5e"
      },
      "execution_count": 66,
      "outputs": [
        {
          "output_type": "stream",
          "name": "stdout",
          "text": [
            "[11 53 28 50 38 37 94  5 30 68  9] \n",
            "\n",
            "[110 530  28  50  38  37  94   5  30  68   9]\n"
          ]
        }
      ]
    },
    {
      "cell_type": "markdown",
      "source": [
        "### **14. Delete Function(np.delete)**\n",
        "**The numpy.delete() function returns a new array with the deletion of sub-arrays along with the mentioned axis.**"
      ],
      "metadata": {
        "id": "wv4Uo5NMd7vi"
      }
    },
    {
      "cell_type": "code",
      "source": [
        "print(a,'\\n')\n",
        "print(np.delete(a,[1,10]))"
      ],
      "metadata": {
        "colab": {
          "base_uri": "https://localhost:8080/"
        },
        "id": "6AhV7GdWd1ZM",
        "outputId": "6ddfb030-50d2-44d4-f28b-0530a8d9105f"
      },
      "execution_count": 69,
      "outputs": [
        {
          "output_type": "stream",
          "name": "stdout",
          "text": [
            "[110 530  28  50  38  37  94   5  30  68   9] \n",
            "\n",
            "[110  28  50  38  37  94   5  30  68]\n"
          ]
        }
      ]
    },
    {
      "cell_type": "markdown",
      "source": [
        "### **15. Set Functions**\n",
        "*  np.union1d\n",
        "*  np.intersect1d\n",
        "*  np.setdiff1d\n",
        "*  np.setxor1d\n",
        "*  np.in1d"
      ],
      "metadata": {
        "id": "zz1Kfj4Vejq6"
      }
    },
    {
      "cell_type": "code",
      "source": [
        "# np.union1d\n",
        "\n",
        "a = np.arange(1,7)\n",
        "b = np.arange(4,9)\n",
        "print(a,'\\n')\n",
        "print(b,'\\n')\n",
        "print(np.union1d(a,b))"
      ],
      "metadata": {
        "colab": {
          "base_uri": "https://localhost:8080/"
        },
        "id": "3JQi960keT5d",
        "outputId": "b8624f49-77a0-4354-a0e0-aa390c76a987"
      },
      "execution_count": 70,
      "outputs": [
        {
          "output_type": "stream",
          "name": "stdout",
          "text": [
            "[1 2 3 4 5 6] \n",
            "\n",
            "[4 5 6 7 8] \n",
            "\n",
            "[1 2 3 4 5 6 7 8]\n"
          ]
        }
      ]
    },
    {
      "cell_type": "code",
      "source": [
        "# np.intersect1d\n",
        "\n",
        "print(a,'\\n')\n",
        "print(b,'\\n')\n",
        "print(np.intersect1d(a,b))"
      ],
      "metadata": {
        "colab": {
          "base_uri": "https://localhost:8080/"
        },
        "id": "i1CaJex5fT_0",
        "outputId": "4a75eda2-6401-4ec7-d3b2-dbd59b3e16ef"
      },
      "execution_count": 71,
      "outputs": [
        {
          "output_type": "stream",
          "name": "stdout",
          "text": [
            "[1 2 3 4 5 6] \n",
            "\n",
            "[4 5 6 7 8] \n",
            "\n",
            "[4 5 6]\n"
          ]
        }
      ]
    },
    {
      "cell_type": "code",
      "source": [
        "# np.setdiff1d\n",
        "\n",
        "print(a,'\\n')\n",
        "print(b,'\\n')\n",
        "print(np.setdiff1d(a,b),'\\n')            # In a but not in b\n",
        "print(np.setdiff1d(b,a))"
      ],
      "metadata": {
        "colab": {
          "base_uri": "https://localhost:8080/"
        },
        "id": "oqXwIS3KfeVJ",
        "outputId": "2067d9e3-ee4b-4635-b028-a26b775e402f"
      },
      "execution_count": 73,
      "outputs": [
        {
          "output_type": "stream",
          "name": "stdout",
          "text": [
            "[1 2 3 4 5 6] \n",
            "\n",
            "[4 5 6 7 8] \n",
            "\n",
            "[1 2 3] \n",
            "\n",
            "[7 8]\n"
          ]
        }
      ]
    },
    {
      "cell_type": "code",
      "source": [
        "# np.setxor1d\n",
        "\n",
        "print(a,'\\n')\n",
        "print(b,'\\n')\n",
        "print(np.setxor1d(a,b))                 # Not Common from a and b"
      ],
      "metadata": {
        "colab": {
          "base_uri": "https://localhost:8080/"
        },
        "id": "byLseNWtfpsk",
        "outputId": "3be5c547-b003-460b-ec9a-37689d0dd257"
      },
      "execution_count": 74,
      "outputs": [
        {
          "output_type": "stream",
          "name": "stdout",
          "text": [
            "[1 2 3 4 5 6] \n",
            "\n",
            "[4 5 6 7 8] \n",
            "\n",
            "[1 2 3 7 8]\n"
          ]
        }
      ]
    },
    {
      "cell_type": "code",
      "source": [
        "# np.in1d\n",
        "\n",
        "print(a,'\\n')\n",
        "print(b,'\\n')\n",
        "print(np.in1d(a,b),'\\n')\n",
        "print(a[np.in1d(a,b)],'\\n')\n",
        "print(np.in1d(b,a),'\\n')\n",
        "print(b[np.in1d(b,a)])"
      ],
      "metadata": {
        "colab": {
          "base_uri": "https://localhost:8080/"
        },
        "id": "cBbdMGiPf-I3",
        "outputId": "c2a79794-bd08-45a1-eef0-6864017f003b"
      },
      "execution_count": 80,
      "outputs": [
        {
          "output_type": "stream",
          "name": "stdout",
          "text": [
            "[1 2 3 4 5 6] \n",
            "\n",
            "[4 5 6 7 8] \n",
            "\n",
            "[False False False  True  True  True] \n",
            "\n",
            "[4 5 6] \n",
            "\n",
            "[ True  True  True False False] \n",
            "\n",
            "[4 5 6]\n"
          ]
        }
      ]
    },
    {
      "cell_type": "markdown",
      "source": [
        "### **16. Clip Function (np.clip)**\n",
        "**numpy.clip() function is used to Clip (limit) the values in an array.**"
      ],
      "metadata": {
        "id": "cFUwAVmJg6tK"
      }
    },
    {
      "cell_type": "code",
      "source": [
        "a = np.array([11,53,28,50,38,37,94,5,30,68,9])\n",
        "print(a,'\\n')\n",
        "print(np.clip(a,a_min=30,a_max=60))"
      ],
      "metadata": {
        "colab": {
          "base_uri": "https://localhost:8080/"
        },
        "id": "iJNdvn28gYbC",
        "outputId": "9ba0db21-c410-4aee-ef20-b5533c6c66df"
      },
      "execution_count": 82,
      "outputs": [
        {
          "output_type": "stream",
          "name": "stdout",
          "text": [
            "[11 53 28 50 38 37 94  5 30 68  9] \n",
            "\n",
            "[30 53 30 50 38 37 60 30 30 60 30]\n"
          ]
        }
      ]
    },
    {
      "cell_type": "code",
      "source": [],
      "metadata": {
        "id": "v7NL75EShprE"
      },
      "execution_count": null,
      "outputs": []
    }
  ]
}