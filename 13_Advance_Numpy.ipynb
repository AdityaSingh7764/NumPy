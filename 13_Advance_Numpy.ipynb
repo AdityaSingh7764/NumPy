{
  "nbformat": 4,
  "nbformat_minor": 0,
  "metadata": {
    "colab": {
      "provenance": []
    },
    "kernelspec": {
      "name": "python3",
      "display_name": "Python 3"
    },
    "language_info": {
      "name": "python"
    }
  },
  "cells": [
    {
      "cell_type": "markdown",
      "source": [
        "# **1. Numpy Array Vs Python Lists**"
      ],
      "metadata": {
        "id": "TZS6aaH-FyGr"
      }
    },
    {
      "cell_type": "code",
      "execution_count": 2,
      "metadata": {
        "colab": {
          "base_uri": "https://localhost:8080/"
        },
        "id": "vTGZC4Jm9a_Q",
        "outputId": "8500ac32-9e3b-424e-886b-3379432a5e16"
      },
      "outputs": [
        {
          "output_type": "stream",
          "name": "stdout",
          "text": [
            "2.414973735809326\n",
            "0.05211973190307617\n"
          ]
        }
      ],
      "source": [
        "# Difference of Speed between Numpy Arrays and Python List\n",
        "import time\n",
        "import numpy as np\n",
        "\n",
        "# List Speed\n",
        "a = [i for i in range(10000000)]\n",
        "b = [i for i in range(10000000,20000000)]\n",
        "\n",
        "c= []\n",
        "\n",
        "start = time.time()\n",
        "for i in range(len(a)):\n",
        "  c.append(a[i] + b[i])\n",
        "print(time.time()-start)\n",
        "\n",
        "# Numpy Array Speed\n",
        "a = np.arange(10000000)\n",
        "b = np.arange(10000000,20000000)\n",
        "\n",
        "start = time.time()\n",
        "c = a + b\n",
        "print(time.time()-start)"
      ]
    },
    {
      "cell_type": "code",
      "source": [
        "2.4149/0.0521\n",
        "\n",
        "# Numpy Array is approx 46x faster than Python List."
      ],
      "metadata": {
        "colab": {
          "base_uri": "https://localhost:8080/"
        },
        "id": "hzKOU0R0JPq_",
        "outputId": "d9da5518-02bd-4026-d3bb-8d250d5ed737"
      },
      "execution_count": 3,
      "outputs": [
        {
          "output_type": "execute_result",
          "data": {
            "text/plain": [
              "46.35124760076775"
            ]
          },
          "metadata": {},
          "execution_count": 3
        }
      ]
    },
    {
      "cell_type": "code",
      "source": [
        "# Difference of Memory between Numpy Arrays and Python List\n",
        "import sys\n",
        "\n",
        "# List\n",
        "a = [i for i in range(10000000)]\n",
        "print(sys.getsizeof(a))\n",
        "\n",
        "# Numpy Array\n",
        "a = np.arange(10000000)\n",
        "print(sys.getsizeof(a))\n",
        "\n",
        "a = np.arange(10000000,dtype=np.int32)\n",
        "print(sys.getsizeof(a))"
      ],
      "metadata": {
        "colab": {
          "base_uri": "https://localhost:8080/"
        },
        "id": "1cXjIi7CKyPT",
        "outputId": "ca32ee1d-f28f-49d7-8781-b2116095e7b1"
      },
      "execution_count": 7,
      "outputs": [
        {
          "output_type": "stream",
          "name": "stdout",
          "text": [
            "89095160\n",
            "80000112\n",
            "40000112\n"
          ]
        }
      ]
    },
    {
      "cell_type": "code",
      "source": [
        "# Difference of Convenience between Numpy Arrays and Python List\n",
        "\n",
        "# As we are merging two list above it is much more complex than adding two numpy arrays"
      ],
      "metadata": {
        "id": "EvCRXvzsOCj0"
      },
      "execution_count": null,
      "outputs": []
    },
    {
      "cell_type": "markdown",
      "source": [
        "# **2. Advanced Indexing**"
      ],
      "metadata": {
        "id": "U6og2tL_QbQ3"
      }
    },
    {
      "cell_type": "markdown",
      "source": [
        "### **Fancy Indexing**"
      ],
      "metadata": {
        "id": "8OqVuspshsWU"
      }
    },
    {
      "cell_type": "code",
      "source": [
        "a = np.arange(0,12).reshape(4,3)\n",
        "print(a,'\\n')\n",
        "a[[0,2,3]]"
      ],
      "metadata": {
        "colab": {
          "base_uri": "https://localhost:8080/"
        },
        "id": "WPVTdJs9QfSw",
        "outputId": "50e54ad3-e67a-4405-ef30-9cb4531fa0f3"
      },
      "execution_count": 11,
      "outputs": [
        {
          "output_type": "stream",
          "name": "stdout",
          "text": [
            "[[ 0  1  2]\n",
            " [ 3  4  5]\n",
            " [ 6  7  8]\n",
            " [ 9 10 11]] \n",
            "\n"
          ]
        },
        {
          "output_type": "execute_result",
          "data": {
            "text/plain": [
              "array([[ 0,  1,  2],\n",
              "       [ 6,  7,  8],\n",
              "       [ 9, 10, 11]])"
            ]
          },
          "metadata": {},
          "execution_count": 11
        }
      ]
    },
    {
      "cell_type": "code",
      "source": [
        "a = np.arange(0,24).reshape(6,4)\n",
        "print(a,'\\n')\n",
        "print(a[[0,2,3,5]],'\\n')\n",
        "print(a[:,[0,2,3]],'\\n')"
      ],
      "metadata": {
        "colab": {
          "base_uri": "https://localhost:8080/"
        },
        "id": "huYv2KMTRAyW",
        "outputId": "31db5775-2d56-416d-faa2-472c9ccbbb0a"
      },
      "execution_count": 15,
      "outputs": [
        {
          "output_type": "stream",
          "name": "stdout",
          "text": [
            "[[ 0  1  2  3]\n",
            " [ 4  5  6  7]\n",
            " [ 8  9 10 11]\n",
            " [12 13 14 15]\n",
            " [16 17 18 19]\n",
            " [20 21 22 23]] \n",
            "\n",
            "[[ 0  1  2  3]\n",
            " [ 8  9 10 11]\n",
            " [12 13 14 15]\n",
            " [20 21 22 23]] \n",
            "\n",
            "[[ 0  2  3]\n",
            " [ 4  6  7]\n",
            " [ 8 10 11]\n",
            " [12 14 15]\n",
            " [16 18 19]\n",
            " [20 22 23]]\n"
          ]
        }
      ]
    },
    {
      "cell_type": "markdown",
      "source": [
        "### **Boolean Indexing**"
      ],
      "metadata": {
        "id": "CaZ9W8cChwIR"
      }
    },
    {
      "cell_type": "code",
      "source": [
        "a = np.random.randint(1,100,24).reshape(6,4)\n",
        "print(a,'\\n')"
      ],
      "metadata": {
        "colab": {
          "base_uri": "https://localhost:8080/"
        },
        "id": "dc_WQgNaR8sB",
        "outputId": "5ce06058-05f3-4336-cb8c-16bcdfad06a8"
      },
      "execution_count": 16,
      "outputs": [
        {
          "output_type": "stream",
          "name": "stdout",
          "text": [
            "[[72 13 51 36]\n",
            " [72 99 55 73]\n",
            " [48 14 87 64]\n",
            " [63 82 38 44]\n",
            " [45 60 25 87]\n",
            " [98 33 54 19]] \n",
            "\n"
          ]
        }
      ]
    },
    {
      "cell_type": "code",
      "source": [
        "# find all the numbers greater than 50\n",
        "print(a>50,'\\n')\n",
        "print(a[a>50])       # Used In many scenarios"
      ],
      "metadata": {
        "colab": {
          "base_uri": "https://localhost:8080/"
        },
        "id": "ezTzkXXSe2rP",
        "outputId": "30b3e8ed-501e-4a1d-e022-7a40c9cb29dc"
      },
      "execution_count": 20,
      "outputs": [
        {
          "output_type": "stream",
          "name": "stdout",
          "text": [
            "[[ True False  True False]\n",
            " [ True  True  True  True]\n",
            " [False False  True  True]\n",
            " [ True  True False False]\n",
            " [False  True False  True]\n",
            " [ True False  True False]] \n",
            "\n",
            "[72 51 72 99 55 73 87 64 63 82 60 87 98 54]\n"
          ]
        }
      ]
    },
    {
      "cell_type": "code",
      "source": [
        "# find out even numbers\n",
        "print(a[a%2 == 0])"
      ],
      "metadata": {
        "colab": {
          "base_uri": "https://localhost:8080/"
        },
        "id": "JuXJ60aKfuim",
        "outputId": "6d49f9de-4afd-485b-c723-9254eef7a3bc"
      },
      "execution_count": 21,
      "outputs": [
        {
          "output_type": "stream",
          "name": "stdout",
          "text": [
            "[72 36 72 48 14 64 82 38 44 60 98 54]\n"
          ]
        }
      ]
    },
    {
      "cell_type": "code",
      "source": [
        "# find all numbers greater than 50 and are even\n",
        "print(a[(a>50) & (a%2==0)])                 # Using bitwise and for boolean values"
      ],
      "metadata": {
        "colab": {
          "base_uri": "https://localhost:8080/"
        },
        "id": "J8qwUyWfgLaB",
        "outputId": "3b01a3a4-fa87-4cb8-d512-529dc350e40e"
      },
      "execution_count": 34,
      "outputs": [
        {
          "output_type": "stream",
          "name": "stdout",
          "text": [
            "[72 72 64 82 60 98 54]\n"
          ]
        }
      ]
    },
    {
      "cell_type": "code",
      "source": [
        "# find all numbers not divisible by 7\n",
        "print(a[a%7 != 0],'\\n')\n",
        "# OR\n",
        "print(a[~(a%7 == 0)])              # ~ = NOT"
      ],
      "metadata": {
        "colab": {
          "base_uri": "https://localhost:8080/"
        },
        "id": "vzDe9rcZgerL",
        "outputId": "8a2b0de7-4d5e-41f2-980c-f9f42c6bf37d"
      },
      "execution_count": 37,
      "outputs": [
        {
          "output_type": "stream",
          "name": "stdout",
          "text": [
            "[72 13 51 36 72 99 55 73 48 87 64 82 38 44 45 60 25 87 33 54 19] \n",
            "\n",
            "[72 13 51 36 72 99 55 73 48 87 64 82 38 44 45 60 25 87 33 54 19]\n"
          ]
        }
      ]
    },
    {
      "cell_type": "markdown",
      "source": [
        "# **3. Broadcasting**\n",
        "* **The term broadcasting describes how NumPy treats arrays with different shapes during arithmetic operations**\n",
        "* **The smaller array is \"broadcast\" across the larger array so that they have compatible shapes.**"
      ],
      "metadata": {
        "id": "-LygGDNWiEWI"
      }
    },
    {
      "cell_type": "code",
      "source": [
        "# Same Shape\n",
        "\n",
        "a = np.arange(6).reshape(2,3)\n",
        "b = np.arange(6,12).reshape(2,3)\n",
        "\n",
        "print(a,'\\n')\n",
        "print(b,'\\n')\n",
        "\n",
        "print(a+b)"
      ],
      "metadata": {
        "colab": {
          "base_uri": "https://localhost:8080/"
        },
        "id": "QBAqI3oDhkBP",
        "outputId": "40b7a2ea-d5c3-4732-ebab-15ae7e80df9b"
      },
      "execution_count": 38,
      "outputs": [
        {
          "output_type": "stream",
          "name": "stdout",
          "text": [
            "[[0 1 2]\n",
            " [3 4 5]] \n",
            "\n",
            "[[ 6  7  8]\n",
            " [ 9 10 11]] \n",
            "\n",
            "[[ 6  8 10]\n",
            " [12 14 16]]\n"
          ]
        }
      ]
    },
    {
      "cell_type": "code",
      "source": [
        "# Different SHape\n",
        "\n",
        "a = np.arange(6).reshape(2,3)\n",
        "b = np.arange(3).reshape(1,3)\n",
        "\n",
        "print(a,'\\n')\n",
        "print(b,'\\n')                   # [[0 1 2]]       # It will broadcast\n",
        "                                # [[0 1 2]]\n",
        "print(a+b)"
      ],
      "metadata": {
        "colab": {
          "base_uri": "https://localhost:8080/"
        },
        "id": "65_ubMLLs154",
        "outputId": "729ea673-3724-43d0-947a-c92fd7f75b5e"
      },
      "execution_count": 39,
      "outputs": [
        {
          "output_type": "stream",
          "name": "stdout",
          "text": [
            "[[0 1 2]\n",
            " [3 4 5]] \n",
            "\n",
            "[[0 1 2]] \n",
            "\n",
            "[[0 2 4]\n",
            " [3 5 7]]\n"
          ]
        }
      ]
    },
    {
      "cell_type": "markdown",
      "source": [
        "### **Broadcasting Rules**\n",
        "**1. Make the two arrays have the same number of dimensions.**\n",
        "*  If the numbers of dimensions of the two arrays are different, add new dimension with size 1 to the head of the array with the smaller dimension.\n",
        "\n",
        "**2. Make each dimension of the two arrays the same size.**\n",
        "*  If the sizes of each dimension of two arrays do not match, dimensions with size 1 are stretched to the size of the other array.\n",
        "*  If there is a dimension whose size is not 1 in either of the two arrays, it cannot be broadcasted, and an error is raised"
      ],
      "metadata": {
        "id": "gNdiXqtjuOPO"
      }
    },
    {
      "cell_type": "code",
      "source": [
        "# Examples\n",
        "\n",
        "a = np.arange(12).reshape(4,3)\n",
        "b = np.arange(3)\n",
        "\n",
        "print(a,'\\n')\n",
        "print(b,'\\n')\n",
        "\n",
        "print(a+b)"
      ],
      "metadata": {
        "colab": {
          "base_uri": "https://localhost:8080/"
        },
        "id": "gSxXItYJtcjm",
        "outputId": "f9a0a834-3601-4cb4-c2c0-5aa5588506d7"
      },
      "execution_count": 42,
      "outputs": [
        {
          "output_type": "stream",
          "name": "stdout",
          "text": [
            "[[ 0  1  2]\n",
            " [ 3  4  5]\n",
            " [ 6  7  8]\n",
            " [ 9 10 11]] \n",
            "\n",
            "[0 1 2] \n",
            "\n",
            "[[ 0  2  4]\n",
            " [ 3  5  7]\n",
            " [ 6  8 10]\n",
            " [ 9 11 13]]\n"
          ]
        }
      ]
    },
    {
      "cell_type": "code",
      "source": [
        "a = np.arange(12).reshape(3,4)\n",
        "b = np.arange(3)       # Could not broadcast (3,3)\n",
        "\n",
        "print(a,'\\n')\n",
        "print(b,'\\n')"
      ],
      "metadata": {
        "id": "NUptl3U3xT6G"
      },
      "execution_count": null,
      "outputs": []
    },
    {
      "cell_type": "code",
      "source": [
        "a = np.arange(3).reshape(1,3)\n",
        "b = np.arange(3).reshape(3,1)\n",
        "\n",
        "print(a,'\\n')\n",
        "print(b,'\\n')\n",
        "\n",
        "print(a+b)"
      ],
      "metadata": {
        "colab": {
          "base_uri": "https://localhost:8080/"
        },
        "id": "KTKJRE0FzaaQ",
        "outputId": "029f233a-127a-45b7-c5da-69655f5c0033"
      },
      "execution_count": 44,
      "outputs": [
        {
          "output_type": "stream",
          "name": "stdout",
          "text": [
            "[[0 1 2]] \n",
            "\n",
            "[[0]\n",
            " [1]\n",
            " [2]] \n",
            "\n",
            "[[0 1 2]\n",
            " [1 2 3]\n",
            " [2 3 4]]\n"
          ]
        }
      ]
    },
    {
      "cell_type": "code",
      "source": [
        "a = np.arange(3).reshape(1,3)\n",
        "b = np.arange(4).reshape(4,1)\n",
        "\n",
        "print(a,'\\n')\n",
        "print(b,'\\n')\n",
        "\n",
        "print(a+b)"
      ],
      "metadata": {
        "colab": {
          "base_uri": "https://localhost:8080/"
        },
        "id": "whBq9CMizhmv",
        "outputId": "dfc73b37-7b79-42df-fedd-c0b0ef5c11da"
      },
      "execution_count": 45,
      "outputs": [
        {
          "output_type": "stream",
          "name": "stdout",
          "text": [
            "[[0 1 2]] \n",
            "\n",
            "[[0]\n",
            " [1]\n",
            " [2]\n",
            " [3]] \n",
            "\n",
            "[[0 1 2]\n",
            " [1 2 3]\n",
            " [2 3 4]\n",
            " [3 4 5]]\n"
          ]
        }
      ]
    },
    {
      "cell_type": "code",
      "source": [
        "a = np.arange(4).reshape(2,2)\n",
        "b = np.array([1])\n",
        "\n",
        "print(a,'\\n')\n",
        "print(b,'\\n')\n",
        "\n",
        "print(a+b)"
      ],
      "metadata": {
        "colab": {
          "base_uri": "https://localhost:8080/"
        },
        "id": "RK0ch8J80Eqp",
        "outputId": "0f54cf2c-8678-42a2-f96b-610f896f899e"
      },
      "execution_count": 47,
      "outputs": [
        {
          "output_type": "stream",
          "name": "stdout",
          "text": [
            "[[0 1]\n",
            " [2 3]] \n",
            "\n",
            "[1] \n",
            "\n",
            "[[1 2]\n",
            " [3 4]]\n"
          ]
        }
      ]
    },
    {
      "cell_type": "markdown",
      "source": [
        "# **4. Mathematical Formulas**"
      ],
      "metadata": {
        "id": "ye9Tn4qj1Hp0"
      }
    },
    {
      "cell_type": "code",
      "source": [
        "a = np.arange(10)\n",
        "print(a,'\\n')\n",
        "print(sum(a),'\\n')\n",
        "print(np.sin(a),'\\n')"
      ],
      "metadata": {
        "colab": {
          "base_uri": "https://localhost:8080/"
        },
        "id": "_TBWCtsF0OT4",
        "outputId": "21240103-c489-4895-9334-2fae00eedd8e"
      },
      "execution_count": 49,
      "outputs": [
        {
          "output_type": "stream",
          "name": "stdout",
          "text": [
            "[0 1 2 3 4 5 6 7 8 9] \n",
            "\n",
            "45 \n",
            "\n",
            "[ 0.          0.84147098  0.90929743  0.14112001 -0.7568025  -0.95892427\n",
            " -0.2794155   0.6569866   0.98935825  0.41211849] \n",
            "\n"
          ]
        }
      ]
    },
    {
      "cell_type": "code",
      "source": [
        "# Sigmoid\n",
        "a = np.arange(20)\n",
        "\n",
        "def sigmoid(a):\n",
        "  return 1/(1 + np.exp(-(a)))\n",
        "\n",
        "print(sigmoid(a))"
      ],
      "metadata": {
        "colab": {
          "base_uri": "https://localhost:8080/"
        },
        "id": "8sr4qAGg4Bd9",
        "outputId": "69423418-60c4-4282-ae52-821401c75603"
      },
      "execution_count": 53,
      "outputs": [
        {
          "output_type": "stream",
          "name": "stdout",
          "text": [
            "[0.5        0.73105858 0.88079708 0.95257413 0.98201379 0.99330715\n",
            " 0.99752738 0.99908895 0.99966465 0.99987661 0.9999546  0.9999833\n",
            " 0.99999386 0.99999774 0.99999917 0.99999969 0.99999989 0.99999996\n",
            " 0.99999998 0.99999999]\n"
          ]
        }
      ]
    },
    {
      "cell_type": "code",
      "source": [
        "# Mean Squared Error\n",
        "\n",
        "actual = np.random.randint(1,50,25)\n",
        "predicted = np.random.randint(1,50,25)\n",
        "\n",
        "print(predicted,'\\n')\n",
        "print(actual,'\\n')"
      ],
      "metadata": {
        "colab": {
          "base_uri": "https://localhost:8080/"
        },
        "id": "oRpTau3E4oIQ",
        "outputId": "46976238-e478-485a-82d6-90f1df2aff16"
      },
      "execution_count": 56,
      "outputs": [
        {
          "output_type": "stream",
          "name": "stdout",
          "text": [
            "[ 4 43  1 26 40 32 20 22 13 24  8 24 43 15  4 22 35 24 27  6 26  7 18 25\n",
            " 30] \n",
            "\n",
            "[43 11 46 24 39 12 16 15 18 22 12 25 27  8 36 42 35 34 30  9 42 12  3 26\n",
            " 25] \n",
            "\n"
          ]
        }
      ]
    },
    {
      "cell_type": "code",
      "source": [
        "def mean_squared_error(actual,predicted):\n",
        "  return np.mean((actual-predicted)**2)\n",
        "\n",
        "mean_squared_error(actual,predicted)"
      ],
      "metadata": {
        "colab": {
          "base_uri": "https://localhost:8080/"
        },
        "id": "sVfe119MB9D_",
        "outputId": "69ce6e7e-7bf0-455f-caf3-1b4887f733b3"
      },
      "execution_count": 58,
      "outputs": [
        {
          "output_type": "execute_result",
          "data": {
            "text/plain": [
              "298.6"
            ]
          },
          "metadata": {},
          "execution_count": 58
        }
      ]
    },
    {
      "cell_type": "markdown",
      "source": [
        "# **5. Working with Missing Values**"
      ],
      "metadata": {
        "id": "IghiktbwC7g_"
      }
    },
    {
      "cell_type": "code",
      "source": [
        "# Using np.nan (Missing Value)\n",
        "\n",
        "a = np.array([1,2,3,4,np.nan,6])\n",
        "print(a)"
      ],
      "metadata": {
        "colab": {
          "base_uri": "https://localhost:8080/"
        },
        "id": "0845h177DBcO",
        "outputId": "aad15324-f911-488e-f5b0-6327fef9f714"
      },
      "execution_count": 59,
      "outputs": [
        {
          "output_type": "stream",
          "name": "stdout",
          "text": [
            "[ 1.  2.  3.  4. nan  6.]\n"
          ]
        }
      ]
    },
    {
      "cell_type": "code",
      "source": [
        "print(np.isnan(a),'\\n')\n",
        "print(a[~(np.isnan(a))])"
      ],
      "metadata": {
        "colab": {
          "base_uri": "https://localhost:8080/"
        },
        "id": "cxU1WNH_DfNs",
        "outputId": "0ebb0b85-6966-4b97-9575-baa4b74e7935"
      },
      "execution_count": 63,
      "outputs": [
        {
          "output_type": "stream",
          "name": "stdout",
          "text": [
            "[False False False False  True False] \n",
            "\n",
            "[1. 2. 3. 4. 6.]\n"
          ]
        }
      ]
    },
    {
      "cell_type": "markdown",
      "source": [
        "# **6. Plotting Graphs**"
      ],
      "metadata": {
        "id": "tlqIeMRVEGOz"
      }
    },
    {
      "cell_type": "code",
      "source": [
        "# Plotting a 2D Graph\n",
        "import matplotlib.pyplot as plt\n",
        "\n",
        "x = np.linspace(-10,10,50)\n",
        "y = x\n",
        "print(x,'\\n')\n",
        "plt.plot(x,y)          # x = y"
      ],
      "metadata": {
        "colab": {
          "base_uri": "https://localhost:8080/",
          "height": 649
        },
        "id": "O7ApANToDyLV",
        "outputId": "45c67405-bbe6-4b45-e3e6-42a51a2b1a06"
      },
      "execution_count": 64,
      "outputs": [
        {
          "output_type": "stream",
          "name": "stdout",
          "text": [
            "[-10.          -9.59183673  -9.18367347  -8.7755102   -8.36734694\n",
            "  -7.95918367  -7.55102041  -7.14285714  -6.73469388  -6.32653061\n",
            "  -5.91836735  -5.51020408  -5.10204082  -4.69387755  -4.28571429\n",
            "  -3.87755102  -3.46938776  -3.06122449  -2.65306122  -2.24489796\n",
            "  -1.83673469  -1.42857143  -1.02040816  -0.6122449   -0.20408163\n",
            "   0.20408163   0.6122449    1.02040816   1.42857143   1.83673469\n",
            "   2.24489796   2.65306122   3.06122449   3.46938776   3.87755102\n",
            "   4.28571429   4.69387755   5.10204082   5.51020408   5.91836735\n",
            "   6.32653061   6.73469388   7.14285714   7.55102041   7.95918367\n",
            "   8.36734694   8.7755102    9.18367347   9.59183673  10.        ] \n",
            "\n"
          ]
        },
        {
          "output_type": "execute_result",
          "data": {
            "text/plain": [
              "[<matplotlib.lines.Line2D at 0x7b9df245e3d0>]"
            ]
          },
          "metadata": {},
          "execution_count": 64
        },
        {
          "output_type": "display_data",
          "data": {
            "text/plain": [
              "<Figure size 640x480 with 1 Axes>"
            ],
            "image/png": "[encoded data removed]"
          },
          "metadata": {}
        }
      ]
    },
    {
      "cell_type": "code",
      "source": [
        "# y = x**2\n",
        "\n",
        "x = np.linspace(-10,10,50)\n",
        "y = x**2\n",
        "print(x,'\\n')\n",
        "print(y,'\\n')\n",
        "plt.plot(x,y)"
      ],
      "metadata": {
        "colab": {
          "base_uri": "https://localhost:8080/",
          "height": 904
        },
        "id": "d_ealqctE5PW",
        "outputId": "8f84c487-c2c6-4784-a29f-760f5490c5ac"
      },
      "execution_count": 67,
      "outputs": [
        {
          "output_type": "stream",
          "name": "stdout",
          "text": [
            "[-10.          -9.59183673  -9.18367347  -8.7755102   -8.36734694\n",
            "  -7.95918367  -7.55102041  -7.14285714  -6.73469388  -6.32653061\n",
            "  -5.91836735  -5.51020408  -5.10204082  -4.69387755  -4.28571429\n",
            "  -3.87755102  -3.46938776  -3.06122449  -2.65306122  -2.24489796\n",
            "  -1.83673469  -1.42857143  -1.02040816  -0.6122449   -0.20408163\n",
            "   0.20408163   0.6122449    1.02040816   1.42857143   1.83673469\n",
            "   2.24489796   2.65306122   3.06122449   3.46938776   3.87755102\n",
            "   4.28571429   4.69387755   5.10204082   5.51020408   5.91836735\n",
            "   6.32653061   6.73469388   7.14285714   7.55102041   7.95918367\n",
            "   8.36734694   8.7755102    9.18367347   9.59183673  10.        ] \n",
            "\n",
            "[1.00000000e+02 9.20033319e+01 8.43398584e+01 7.70095793e+01\n",
            " 7.00124948e+01 6.33486047e+01 5.70179092e+01 5.10204082e+01\n",
            " 4.53561016e+01 4.00249896e+01 3.50270721e+01 3.03623490e+01\n",
            " 2.60308205e+01 2.20324865e+01 1.83673469e+01 1.50354019e+01\n",
            " 1.20366514e+01 9.37109538e+00 7.03873386e+00 5.03956685e+00\n",
            " 3.37359434e+00 2.04081633e+00 1.04123282e+00 3.74843815e-01\n",
            " 4.16493128e-02 4.16493128e-02 3.74843815e-01 1.04123282e+00\n",
            " 2.04081633e+00 3.37359434e+00 5.03956685e+00 7.03873386e+00\n",
            " 9.37109538e+00 1.20366514e+01 1.50354019e+01 1.83673469e+01\n",
            " 2.20324865e+01 2.60308205e+01 3.03623490e+01 3.50270721e+01\n",
            " 4.00249896e+01 4.53561016e+01 5.10204082e+01 5.70179092e+01\n",
            " 6.33486047e+01 7.00124948e+01 7.70095793e+01 8.43398584e+01\n",
            " 9.20033319e+01 1.00000000e+02] \n",
            "\n"
          ]
        },
        {
          "output_type": "execute_result",
          "data": {
            "text/plain": [
              "[<matplotlib.lines.Line2D at 0x7b9e1595bf10>]"
            ]
          },
          "metadata": {},
          "execution_count": 67
        },
        {
          "output_type": "display_data",
          "data": {
            "text/plain": [
              "<Figure size 640x480 with 1 Axes>"
            ],
            "image/png": "[encoded data removed]"
          },
          "metadata": {}
        }
      ]
    },
    {
      "cell_type": "code",
      "source": [
        "# y = sin(x)\n",
        "\n",
        "x = np.linspace(-10,10,50)\n",
        "y = np.sin(x)\n",
        "print(x,'\\n')\n",
        "print(y,'\\n')\n",
        "plt.plot(x,y)"
      ],
      "metadata": {
        "colab": {
          "base_uri": "https://localhost:8080/",
          "height": 831
        },
        "id": "4rsaYqf3FTTh",
        "outputId": "8e1787ab-d012-4e4a-980b-8e446490344a"
      },
      "execution_count": 68,
      "outputs": [
        {
          "output_type": "stream",
          "name": "stdout",
          "text": [
            "[-10.          -9.59183673  -9.18367347  -8.7755102   -8.36734694\n",
            "  -7.95918367  -7.55102041  -7.14285714  -6.73469388  -6.32653061\n",
            "  -5.91836735  -5.51020408  -5.10204082  -4.69387755  -4.28571429\n",
            "  -3.87755102  -3.46938776  -3.06122449  -2.65306122  -2.24489796\n",
            "  -1.83673469  -1.42857143  -1.02040816  -0.6122449   -0.20408163\n",
            "   0.20408163   0.6122449    1.02040816   1.42857143   1.83673469\n",
            "   2.24489796   2.65306122   3.06122449   3.46938776   3.87755102\n",
            "   4.28571429   4.69387755   5.10204082   5.51020408   5.91836735\n",
            "   6.32653061   6.73469388   7.14285714   7.55102041   7.95918367\n",
            "   8.36734694   8.7755102    9.18367347   9.59183673  10.        ] \n",
            "\n",
            "[ 0.54402111  0.16628279 -0.23877532 -0.60460332 -0.8710967  -0.99447137\n",
            " -0.9544572  -0.75762842 -0.43632343 -0.04333173  0.35677924  0.6982724\n",
            "  0.92504137  0.99982867  0.91034694  0.67129779  0.32195632 -0.08028167\n",
            " -0.46932961 -0.78126802 -0.96484631 -0.98990308 -0.85232157 -0.57470604\n",
            " -0.20266794  0.20266794  0.57470604  0.85232157  0.98990308  0.96484631\n",
            "  0.78126802  0.46932961  0.08028167 -0.32195632 -0.67129779 -0.91034694\n",
            " -0.99982867 -0.92504137 -0.6982724  -0.35677924  0.04333173  0.43632343\n",
            "  0.75762842  0.9544572   0.99447137  0.8710967   0.60460332  0.23877532\n",
            " -0.16628279 -0.54402111] \n",
            "\n"
          ]
        },
        {
          "output_type": "execute_result",
          "data": {
            "text/plain": [
              "[<matplotlib.lines.Line2D at 0x7b9e1588d890>]"
            ]
          },
          "metadata": {},
          "execution_count": 68
        },
        {
          "output_type": "display_data",
          "data": {
            "text/plain": [
              "<Figure size 640x480 with 1 Axes>"
            ],
            "image/png": "[encoded data removed]"
          },
          "metadata": {}
        }
      ]
    },
    {
      "cell_type": "code",
      "source": [
        "# y = x log(x)\n",
        "\n",
        "x = np.linspace(-10,10,50)\n",
        "y = x*(np.log(x))\n",
        "print(x,'\\n')\n",
        "print(y,'\\n')\n",
        "plt.plot(x,y)"
      ],
      "metadata": {
        "colab": {
          "base_uri": "https://localhost:8080/",
          "height": 941
        },
        "id": "TD-aGMv7FprA",
        "outputId": "3204b5fc-8290-4480-ca8e-e0ef3fbb3a13"
      },
      "execution_count": 69,
      "outputs": [
        {
          "output_type": "stream",
          "name": "stdout",
          "text": [
            "[-10.          -9.59183673  -9.18367347  -8.7755102   -8.36734694\n",
            "  -7.95918367  -7.55102041  -7.14285714  -6.73469388  -6.32653061\n",
            "  -5.91836735  -5.51020408  -5.10204082  -4.69387755  -4.28571429\n",
            "  -3.87755102  -3.46938776  -3.06122449  -2.65306122  -2.24489796\n",
            "  -1.83673469  -1.42857143  -1.02040816  -0.6122449   -0.20408163\n",
            "   0.20408163   0.6122449    1.02040816   1.42857143   1.83673469\n",
            "   2.24489796   2.65306122   3.06122449   3.46938776   3.87755102\n",
            "   4.28571429   4.69387755   5.10204082   5.51020408   5.91836735\n",
            "   6.32653061   6.73469388   7.14285714   7.55102041   7.95918367\n",
            "   8.36734694   8.7755102    9.18367347   9.59183673  10.        ] \n",
            "\n",
            "[            nan             nan             nan             nan\n",
            "             nan             nan             nan             nan\n",
            "             nan             nan             nan             nan\n",
            "             nan             nan             nan             nan\n",
            "             nan             nan             nan             nan\n",
            "             nan             nan             nan             nan\n",
            "             nan -3.24333715e-01 -3.00381377e-01  2.06150075e-02\n",
            "  5.09535634e-01  1.11671517e+00  1.81535934e+00  2.58862938e+00\n",
            "  3.42494387e+00  4.31584252e+00  5.25487178e+00  6.23694528e+00\n",
            "  7.25795046e+00  8.31449296e+00  9.40372344e+00  1.05232159e+01\n",
            "  1.16708800e+01  1.28448955e+01  1.40436633e+01  1.52657674e+01\n",
            "  1.65099451e+01  1.77750635e+01  1.90601002e+01  2.03641281e+01\n",
            "  2.16863026e+01  2.30258509e+01] \n",
            "\n"
          ]
        },
        {
          "output_type": "stream",
          "name": "stderr",
          "text": [
            "<ipython-input-69-4d76b254fc03>:4: RuntimeWarning: invalid value encountered in log\n",
            "  y = x*(np.log(x))\n"
          ]
        },
        {
          "output_type": "execute_result",
          "data": {
            "text/plain": [
              "[<matplotlib.lines.Line2D at 0x7b9dd15ebad0>]"
            ]
          },
          "metadata": {},
          "execution_count": 69
        },
        {
          "output_type": "display_data",
          "data": {
            "text/plain": [
              "<Figure size 640x480 with 1 Axes>"
            ],
            "image/png": "[encoded data removed]"
          },
          "metadata": {}
        }
      ]
    },
    {
      "cell_type": "code",
      "source": [
        "# Sigmoid\n",
        "\n",
        "x = np.linspace(-10,10,50)\n",
        "y = 1/(1+np.exp(-x))\n",
        "print(x,'\\n')\n",
        "print(y,'\\n')\n",
        "plt.plot(x,y)"
      ],
      "metadata": {
        "colab": {
          "base_uri": "https://localhost:8080/",
          "height": 904
        },
        "id": "3M2lzV1RGECK",
        "outputId": "a57216da-34c9-4813-d9b2-5f01e18d8606"
      },
      "execution_count": 73,
      "outputs": [
        {
          "output_type": "stream",
          "name": "stdout",
          "text": [
            "[-10.          -9.59183673  -9.18367347  -8.7755102   -8.36734694\n",
            "  -7.95918367  -7.55102041  -7.14285714  -6.73469388  -6.32653061\n",
            "  -5.91836735  -5.51020408  -5.10204082  -4.69387755  -4.28571429\n",
            "  -3.87755102  -3.46938776  -3.06122449  -2.65306122  -2.24489796\n",
            "  -1.83673469  -1.42857143  -1.02040816  -0.6122449   -0.20408163\n",
            "   0.20408163   0.6122449    1.02040816   1.42857143   1.83673469\n",
            "   2.24489796   2.65306122   3.06122449   3.46938776   3.87755102\n",
            "   4.28571429   4.69387755   5.10204082   5.51020408   5.91836735\n",
            "   6.32653061   6.73469388   7.14285714   7.55102041   7.95918367\n",
            "   8.36734694   8.7755102    9.18367347   9.59183673  10.        ] \n",
            "\n",
            "[4.53978687e-05 6.82792246e-05 1.02692018e-04 1.54446212e-04\n",
            " 2.32277160e-04 3.49316192e-04 5.25297471e-04 7.89865942e-04\n",
            " 1.18752721e-03 1.78503502e-03 2.68237328e-03 4.02898336e-03\n",
            " 6.04752187e-03 9.06814944e-03 1.35769169e-02 2.02816018e-02\n",
            " 3.01959054e-02 4.47353464e-02 6.58005831e-02 9.57904660e-02\n",
            " 1.37437932e-01 1.93321370e-01 2.64947903e-01 3.51547277e-01\n",
            " 4.49155938e-01 5.50844062e-01 6.48452723e-01 7.35052097e-01\n",
            " 8.06678630e-01 8.62562068e-01 9.04209534e-01 9.34199417e-01\n",
            " 9.55264654e-01 9.69804095e-01 9.79718398e-01 9.86423083e-01\n",
            " 9.90931851e-01 9.93952478e-01 9.95971017e-01 9.97317627e-01\n",
            " 9.98214965e-01 9.98812473e-01 9.99210134e-01 9.99474703e-01\n",
            " 9.99650684e-01 9.99767723e-01 9.99845554e-01 9.99897308e-01\n",
            " 9.99931721e-01 9.99954602e-01] \n",
            "\n"
          ]
        },
        {
          "output_type": "execute_result",
          "data": {
            "text/plain": [
              "[<matplotlib.lines.Line2D at 0x7b9defe6add0>]"
            ]
          },
          "metadata": {},
          "execution_count": 73
        },
        {
          "output_type": "display_data",
          "data": {
            "text/plain": [
              "<Figure size 640x480 with 1 Axes>"
            ],
            "image/png": "[encoded data removed]"
          },
          "metadata": {}
        }
      ]
    },
    {
      "cell_type": "code",
      "source": [],
      "metadata": {
        "id": "v0WaCRxOGd0g"
      },
      "execution_count": null,
      "outputs": []
    }
  ]
}